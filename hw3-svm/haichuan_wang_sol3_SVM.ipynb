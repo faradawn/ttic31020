{
  "cells": [
    {
      "cell_type": "markdown",
      "metadata": {
        "id": "wCq8kJ42ghDl"
      },
      "source": [
        "### TTIC 31020 Introduction to Statistical Machine Learning: SVMs via sub-gradient descent and quadratic programming\n",
        "---\n",
        "**About Colab**\n",
        "\n",
        "Colab is essentially an online version of Jupyter. The functionality is essentially the same, but we get the added benefit of some nicer UI elements and a remote runtime. In particular, none of this code will run on your local machine (unless you explicitly ask Colab to connect to a local runtime), and all the datasets are hosted remotely.\n",
        "\n",
        "**Introduction**\n",
        "\n",
        "This exact version of the notebook is read-only, so you'll need to copy this into your Drive (File -> Save a copy in Drive) and modify that version.\n",
        "\n",
        "There are two implementation parts to this exercise.\n",
        "\n",
        "**Linear SVM**\n",
        "\n",
        "You will start by implementing a linear SVM using subgradient descent on the primal form. Recall that we can write this as:\n",
        "\\begin{equation*}\n",
        "    w^* = \\arg\\!\\min \\frac{1}{2} \\lVert w \\rVert^2 + C \\sum_{x, y \\in S} [~ 1 -  w \\cdot x ~]_+\n",
        "\\end{equation*}\n",
        "Your task here is to implement subgradient descent to calculate an approximation to $w^*$.\n",
        "\n",
        "**Kernel SVM**\n",
        "\n",
        "Next, you're going to implement a kernel SVM and test a few kernels on some sanity checks. You will use the _dual_ formulation of the kernel SVM that's in the lecture slides.\n",
        "\n",
        "Once you express the QP for the dual kernel SVM problem in its canonical form, you will plug this into a black-box convex program solver called $\\texttt{cvxopt}$. You will find more specific instructions in the relevant cell.\n",
        "\n",
        "**Evaluation**\n",
        "\n",
        "To check that your code does the right thing, we've included a few synthetic tasks and visualizations. Your code should run pretty fast on these synthetic examples, so you can make changes and iterate quickly.\n",
        "\n",
        "Then, you will test your code on a text classification task; see the relevant cells for more details. **You should get at least 70% test accuracy on the test classification task.**\n",
        "\n",
        "**Submission**\n",
        "\n",
        "Please paste a link to your notebook in your assignment and set the sharing settings such that anyone with the link can view your notebook.\n",
        "\n",
        "**Before coding**\n",
        "\n",
        "Before you start writing the code for this assignment, you may find it helpful to first handwrite the gradient descent update step. The parameter we're learning is given by $\\alpha$, so you'll want to calculate some appropriate value of $\\nabla_\\alpha f(x)$ for some _fixed_ training example $x$.\n",
        "\n",
        "Similarly, you might find it helpful to first handwrite the QP corresponding to the dual kernel SVM problem before coding this up so that you can keep track of all the variables in the problem."
      ]
    },
    {
      "cell_type": "code",
      "execution_count": null,
      "metadata": {
        "id": "7vC24aqueuV2"
      },
      "outputs": [],
      "source": []
    },
    {
      "cell_type": "code",
      "execution_count": 2,
      "metadata": {
        "id": "vNN6eZW5ghDm"
      },
      "outputs": [],
      "source": [
        "#@title Imports and test code. \n",
        "#@markdown Double click here to see exactly what the code's doing.\n",
        "\n",
        "import numpy as np\n",
        "import numpy.random as npr\n",
        "\n",
        "import matplotlib.cm as cm\n",
        "import matplotlib.pyplot as plt\n",
        "%matplotlib inline\n",
        "\n",
        "from math import sqrt\n",
        "\n",
        "import csv\n",
        "import cvxopt\n",
        "\n",
        "\n",
        "def plot_decision_countour(svm, X, y, grid_size=100):\n",
        "    x_min, x_max = X[:, 0].min(), X[:, 0].max()\n",
        "    y_min, y_max = X[:, 1].min(), X[:, 1].max()\n",
        "    xx, yy = np.meshgrid(np.linspace(x_min, x_max, grid_size),\n",
        "                         np.linspace(y_min, y_max, grid_size),\n",
        "                         indexing='ij')\n",
        "    data = np.stack([xx, yy], axis=2).reshape(-1, 2)\n",
        "    pred = svm.predict(data).reshape(xx.shape)\n",
        "    plt.contourf(xx, yy, pred,\n",
        "                 cmap=cm.Paired,\n",
        "                 levels=[-0.001, 0.001],\n",
        "                 extend='both',\n",
        "                 alpha=0.8)\n",
        "    flatten = lambda m: np.array(m).reshape(-1,)\n",
        "    plt.scatter(flatten(X[:,0][y==-1]),flatten(X[:,1][y==-1]),\n",
        "                  c=flatten(y)[y==-1],cmap=cm.Paired,marker='o')\n",
        "    plt.scatter(flatten(X[:,0][y==1]),flatten(X[:,1][y==1]),\n",
        "                  c=flatten(y)[y==1],cmap=cm.Paired,marker='+')\n",
        "    \n",
        "    plt.xlim(x_min, x_max)\n",
        "    plt.ylim(y_min, y_max)\n",
        "    plt.plot()\n",
        "\n",
        "\n",
        "\n",
        "\n",
        "def test_SVM(svm, num_samples=500,linear=False):\n",
        "    \"\"\"test svm\n",
        "    \"\"\"\n",
        "    np.random.seed(783923)\n",
        "\n",
        "    X = npr.random((num_samples, 2)) * 2 - 1\n",
        "    if linear:\n",
        "      y = 2 * (X.sum(axis=1) > 0) - 1.0\n",
        "    else: \n",
        "      y = 2 * ((X ** 2).sum(axis=1) - 0.5 > 0) - 1.0\n",
        "    svm.fit(X,y)\n",
        "    \n",
        "    plot_decision_countour(svm, X, y)\n",
        "\n",
        "    from datetime import datetime\n",
        "    np.random.seed(int(round(datetime.now().timestamp())))\n",
        "\n",
        "def compute_acc(model, X, y):\n",
        "    pred = model.predict(X)\n",
        "    size = len(y)\n",
        "    num_correct = (pred == y).sum()\n",
        "    acc = num_correct / size\n",
        "    print(\"{} out of {} correct, acc {:.3f}\".format(num_correct, size, acc))\n",
        "    return acc"
      ]
    },
    {
      "cell_type": "code",
      "execution_count": 49,
      "metadata": {
        "id": "zNDW9Ia2ghDq"
      },
      "outputs": [],
      "source": [
        "from nltk.metrics.distance import jaccard_distance\n",
        "#@title Linear SVM class **(To be modified)**\n",
        "#@markdown This class contains a shell of an implementation of a linear SVM.\n",
        "#@markdown Double click to expand and see what needs to be implemented.\n",
        "\n",
        "class LinearSVM():\n",
        "    def __init__(self,C):\n",
        "        \"\"\"initialize the svm\n",
        "        \n",
        "        \n",
        "        \"\"\"\n",
        "        self.w = None\n",
        "        self.bias = None\n",
        "        self.C = C\n",
        "\n",
        "    def fit(self, X, y,num_epochs=30,lr_sched=lambda t: 0.1/t):\n",
        "        \"\"\"Fit the model on the data\n",
        "        \n",
        "        Args:\n",
        "            X: [N x d] data matrix\n",
        "            y: [N, ] array of labels\n",
        "            num_epochs: number of passes over the training data we make\n",
        "            lr_sched: function determining how the learning rate decays across\n",
        "                      epochs\n",
        "        \n",
        "        Returns:\n",
        "            self, in case you want to build a pipeline\n",
        "        \"\"\"\n",
        "        assert np.ndim(X) == 2, 'data matrix X expected to be 2d'\n",
        "        assert np.ndim(y) == 1, 'labels expected to be 1d'\n",
        "        N, d = X.shape\n",
        "        assert N == y.shape[0], 'expect [N, d] data matrix and [N] labels'\n",
        "\n",
        "        # YOUR CODE HERE: Implement a subgradient descent\n",
        "        self.w = np.zeros(d)\n",
        "        self.bias = 0\n",
        "  \n",
        "        j = 1 # prevent the case of diving by zero\n",
        "        lr = 1\n",
        "        while (j < (num_epochs + 1)):\n",
        "          cnt = 0\n",
        "          sum_w = np.zeros(d)\n",
        "          sum_b = 0\n",
        "\n",
        "          #idx = np.random.randint(0, N-1)\n",
        "          for i in range(N):\n",
        "            flag = y[i] * (np.dot(X[i], self.w) + self.bias)\n",
        "            if flag < 1:\n",
        "              cnt += 1\n",
        "              sum_w += self.C * y[i] * X[i]\n",
        "              sum_b += self.C * y[i]\n",
        "\n",
        "          grad_w = self.w - (sum_w.T /cnt)\n",
        "          grad_b = - sum_b/cnt \n",
        "          self.w -= lr * grad_w\n",
        "          self.bias -= lr * grad_b\n",
        "          lr = lr_sched(j)\n",
        "    \n",
        "\n",
        "          j += 1\n",
        "\n",
        "\n",
        "\n",
        "\n",
        "        # self.w = w\n",
        "        # self.bias = bias\n",
        "\n",
        "        print(\"training complete\")\n",
        "        return self\n",
        "\n",
        "\n",
        "    def predict(self, X, binarize=True):\n",
        "        \"\"\"make a prediction and return either the confidence margin or label\n",
        "        \n",
        "        Args:\n",
        "            X: [N, d] array of data or [d,] single data point\n",
        "            binarize: if True, then return the label, else the confidence margin\n",
        "        \n",
        "        Returns:\n",
        "            Either confidence margin or predicted label\n",
        "        \"\"\"\n",
        "\n",
        "        if self.w is None:\n",
        "            raise ValueError(\"go fit the data first\")\n",
        "        X = np.atleast_2d(X)\n",
        "        assert X.shape[1] == self.w.shape[0]\n",
        "\n",
        "        \n",
        "        # YOUR CODE HERE:  Compute the confidence margins\n",
        "        res = np.dot(X, self.w)\n",
        "        res = res.squeeze() + self.bias\n",
        "    \n",
        "        if binarize:\n",
        "            N = X.shape[0]\n",
        "            yhat = np.zeros(N)\n",
        "            for i in range(N):\n",
        "              if res[i] > 0:\n",
        "                yhat[i] = 1\n",
        "              else:\n",
        "                yhat[i] = -1\n",
        "            return yhat# YOUR CODE HERE:  Convert the confidence margins to labels\n",
        "        else:\n",
        "            return res\n",
        "\n",
        "    def clone(self):\n",
        "        \"\"\"construct a fresh copy of myself\n",
        "        \"\"\"\n",
        "        return LinearSVM(self.lamb, self.num_epochs)"
      ]
    },
    {
      "cell_type": "code",
      "execution_count": 3,
      "metadata": {
        "id": "M1cTXCKYghDv"
      },
      "outputs": [],
      "source": [
        "\n",
        "#@title Kernel class. \n",
        "#@markdown This class contains a base implementation of several common\n",
        "#@markdown kernels. If you want to implement custom kernels, you should do that\n",
        "#@markdown here.\n",
        "\n",
        "\n",
        "class Kernel(object):\n",
        "    \"\"\"\n",
        "    A class containing all kinds of kernels.\n",
        "    Note: the kernel should work for both input (Matrix, vector) and (vector, vector)\n",
        "    \"\"\"\n",
        "    @staticmethod\n",
        "    def linear():\n",
        "        def f(x, y):\n",
        "            return np.dot(x, y)\n",
        "        return f\n",
        "\n",
        "    @staticmethod\n",
        "    def gaussian(sigma):\n",
        "        def f(x, y):\n",
        "            exponent = - (1/sigma**2) * np.linalg.norm((x-y).transpose(), 2, 0) ** 2\n",
        "            return np.exp(exponent)\n",
        "        return f\n",
        "\n",
        "    @staticmethod\n",
        "    def _poly(dimension, offset):\n",
        "        def f(x, y):\n",
        "            return (offset + np.dot(x, y)) ** dimension\n",
        "        return f\n",
        "\n",
        "    @staticmethod\n",
        "    def inhomogenous_polynomial(dimension):\n",
        "        return Kernel._poly(dimension=dimension, offset=1.0)\n",
        "\n",
        "    @staticmethod\n",
        "    def homogenous_polynomial(dimension):\n",
        "        return Kernel._poly(dimension=dimension, offset=0.0)\n",
        "\n",
        "    @staticmethod\n",
        "    def hyperbolic_tangent(kappa, c):\n",
        "        def f(x, y):\n",
        "            return np.tanh(kappa * np.dot(x, y) + c)\n",
        "        return f"
      ]
    },
    {
      "cell_type": "code",
      "execution_count": 4,
      "metadata": {
        "id": "eSlLz8W7ghDw"
      },
      "outputs": [],
      "source": [
        "#@title Kernel SVM class **(To be modified)**\n",
        "#@markdown In this class, you will fill in the missing functions to\n",
        "#@markdown complete the implementation of the Kernel SVM. We will set up the QP\n",
        "#@markdown optimization and plug it into cvxopt, a black-box convex optimization\n",
        "#@markdown library for Python.\n",
        "\n",
        "class KernelSVM(object):\n",
        "    def __init__(self, kernel, C):\n",
        "        \"\"\"\n",
        "        Build a SVM given kernel function and C\n",
        "\n",
        "        Parameters\n",
        "        ----------\n",
        "        kernel : function\n",
        "            a function takes input (Matrix, vector) or (vector, vector)\n",
        "        C : a scalar\n",
        "            balance term\n",
        "\n",
        "        Returns\n",
        "        -------\n",
        "        \"\"\"\n",
        "        self._kernel = kernel\n",
        "        self.C = C\n",
        "\n",
        "    def fit(self, X, y):\n",
        "        \"\"\"\n",
        "        Fit the model given data X and ground truth label y\n",
        "\n",
        "        Parameters\n",
        "        ----------\n",
        "        X : 2D array\n",
        "            N x d data matrix (row per example)\n",
        "        y : 1D array\n",
        "            class label\n",
        "\n",
        "        Returns\n",
        "        -------\n",
        "        \"\"\"\n",
        "        # Solve the QP problem to get the multipliers\n",
        "        lagrange_multipliers = self._compute_multipliers(X, y)\n",
        "        # Get all the support vectors, support weights and bias\n",
        "        self._construct_predictor(X, y, lagrange_multipliers)\n",
        "    \n",
        "    def predict(self, X):\n",
        "        \"\"\"\n",
        "        Predict the label given data X\n",
        "\n",
        "        Parameters\n",
        "        ----------\n",
        "        X : 2D array\n",
        "            N x d data matrix (row per example)\n",
        "\n",
        "        Returns\n",
        "        -------\n",
        "        y : 1D array\n",
        "            predicted label\n",
        "        \"\"\"\n",
        "        result = np.full(X.shape[0], self._bias) # note: intializing scores with b\n",
        "        for z_i, x_i, y_i in zip(self._weights,\n",
        "                                 self._support_vectors,\n",
        "                                 self._support_vector_labels):\n",
        "            result += z_i * y_i * self._kernel(X, x_i) # the result is \\sum_i alpha_i*y_i*x_i+b\n",
        "        return np.sign(result)\n",
        "\n",
        "    def _kernel_matrix(self, X):\n",
        "        \"\"\"\n",
        "        Get the kernel matrix.\n",
        "\n",
        "        Parameters\n",
        "        ----------\n",
        "        X : 2D array\n",
        "            N x d data matrix (row per example)\n",
        "\n",
        "        Returns\n",
        "        -------\n",
        "        K : 2D array\n",
        "            N x N kernel matrix, where K[i][j] = inner_product(phi(i), phi(j))\n",
        "        \"\"\"\n",
        "        # YOUR CODE HERE: Implement\n",
        "        # pass\n",
        "        N = X.shape[0]\n",
        "        K = np.zeros((N, N))\n",
        "        for i in range(N):\n",
        "          K[i] = self._kernel(X, X[i])\n",
        "\n",
        "        return K\n",
        "\n",
        "    def _construct_predictor(self, X, y, lagrange_multipliers):\n",
        "        \"\"\"\n",
        "        Given the data, label and the multipliers, extract the support vectors and calculate the bias\n",
        "\n",
        "        Parameters\n",
        "        ----------\n",
        "        X : 2D array\n",
        "            N x d data matrix (row per example)\n",
        "        y : 1D array\n",
        "            class label\n",
        "        lagrange_multipliers: 1D array\n",
        "            the solution of lagrange_multiplier\n",
        "\n",
        "        Returns\n",
        "        -------\n",
        "        \"\"\"\n",
        "        support_vector_indices = \\\n",
        "            lagrange_multipliers > 1e-5\n",
        "            \n",
        "        print(\"SV number: \", np.sum(support_vector_indices))\n",
        "\n",
        "        support_multipliers = lagrange_multipliers[support_vector_indices]\n",
        "        support_vectors = X[support_vector_indices]\n",
        "        support_vector_labels = y[support_vector_indices]\n",
        "        # print(support_vector_labels)\n",
        "\n",
        "        \"\"\"\n",
        "        Get the bias term\n",
        "        \"\"\"\n",
        "        # YOUR CODE HERE: Implement \n",
        "\n",
        "\n",
        "        # print(support_vector_indices)\n",
        "        # print(support_multipliers)\n",
        "        # print(support_vectors)\n",
        "        # print(support_vector_labels)\n",
        "\n",
        "        margin_vectors = support_vectors.copy()\n",
        "        for i in range(len(margin_vectors)):\n",
        "          if support_multipliers[i] == self.C:\n",
        "            margin_vectors.pop(i)\n",
        "        K = self._kernel_matrix(support_vectors)\n",
        "        bias = 0\n",
        "        for j in range(len(margin_vectors)):\n",
        "          sum = 0\n",
        "          for i in range(len(support_vectors)):\n",
        "            # print(support_mul_lst.shape)\n",
        "            # print(y.shape)\n",
        "            # print(K.shape)\n",
        "            sum += (support_multipliers[i] * support_vector_labels[i] * K[i,j])\n",
        "          bias += y[j] - sum\n",
        "        if (len(margin_vectors) > 0):\n",
        "          bias = bias / len(margin_vectors)\n",
        "          \n",
        "        self._bias=bias\n",
        "        self._weights=support_multipliers\n",
        "        self._support_vectors=support_vectors\n",
        "        self._support_vector_labels=support_vector_labels\n",
        "\n",
        "\n",
        "    def _compute_multipliers(self, X, y):\n",
        "        \"\"\"\n",
        "        Given the data, label, solve the QP program to get lagrange multiplier.\n",
        "\n",
        "        Parameters\n",
        "        ----------\n",
        "        X : 2D array\n",
        "            N x d data matrix (row per example)\n",
        "        y : 1D array\n",
        "            class label\n",
        "\n",
        "        Returns\n",
        "        lagrange_multipliers: 1D array\n",
        "        -------\n",
        "        \"\"\"\n",
        "        N, d = X.shape\n",
        "\n",
        "        K = self._kernel_matrix(X)\n",
        "        \"\"\"\n",
        "        The standard QP solver formulation:\n",
        "        min 1/2 alpha^T H alpha + f^T alpha\n",
        "        s.t.\n",
        "        A * alpha \\coneleq a (A is former G)\n",
        "        B * alpha = b\n",
        "        \"\"\"\n",
        "        # YOUR CODE HERE: implement. Specifically, define the H, f, A, a, B, b arguments\n",
        "        # as indicated above.\n",
        "\n",
        "        f = cvxopt.matrix(np.zeros(N))\n",
        "        for i in range(N):\n",
        "          f[i] = -1\n",
        "        f = f*1.0\n",
        "        \n",
        "        a = cvxopt.matrix(np.zeros(2 * N))\n",
        "        for i in range(2 * N):\n",
        "          if (i < N):\n",
        "            a[i] = self.C\n",
        "          else:\n",
        "            a[i] = 0\n",
        "        a = a * 1.0\n",
        "\n",
        "        A = np.zeros((2 * N, N))\n",
        "        for i in range(N):\n",
        "          for j in range(N):\n",
        "            if (i == j):\n",
        "              A[i,j] = 1.0\n",
        "        \n",
        "        for i in range(N, 2*N):\n",
        "          for j in range(N):\n",
        "            check = i - N\n",
        "            if (check == j):\n",
        "              A[i, j] = -1.0\n",
        "        A = A * 1.0\n",
        "\n",
        "        A = cvxopt.matrix(A, (2*N, N), 'd')\n",
        "       \n",
        "        b = cvxopt.matrix(0)\n",
        "        b = b * 1.0\n",
        "        B = cvxopt.matrix(y, (1, N))\n",
        "        B = B * 1.0\n",
        "\n",
        "        H = np.zeros((N, N))\n",
        "        H = cvxopt.matrix(H)\n",
        "       \n",
        "        for i in range(N):\n",
        "          for j in range(N):\n",
        "            H[i,j] = y[i] * y[j] * K[i,j]\n",
        "        H = H * 1.0\n",
        "\n",
        "        solution = cvxopt.solvers.qp(H, f, A, a, B, b)\n",
        "\n",
        "        # Lagrange multipliers\n",
        "        return np.ravel(solution['x'])"
      ]
    },
    {
      "cell_type": "code",
      "execution_count": 50,
      "metadata": {
        "colab": {
          "base_uri": "https://localhost:8080/",
          "height": 283
        },
        "id": "XKPHo4ADghDs",
        "outputId": "ba40c473-eb2b-4d01-8237-f0eae9f773c2"
      },
      "outputs": [
        {
          "name": "stdout",
          "output_type": "stream",
          "text": [
            "training complete\n"
          ]
        },
        {
          "data": {
            "image/png": "[encoded data removed]",
            "text/plain": [
              "<Figure size 432x288 with 1 Axes>"
            ]
          },
          "metadata": {
            "needs_background": "light"
          },
          "output_type": "display_data"
        }
      ],
      "source": [
        "#@title Linear SVM Sanity Check\n",
        "\n",
        "svm = LinearSVM(C=10)\n",
        "test_SVM(svm,linear=True)\n"
      ]
    },
    {
      "cell_type": "code",
      "execution_count": null,
      "metadata": {
        "colab": {
          "base_uri": "https://localhost:8080/"
        },
        "id": "tAOIANG4U9XA",
        "outputId": "7c2b10bd-7143-4f97-c645-2055f4e562df"
      },
      "outputs": [
        {
          "data": {
            "text/plain": [
              "-0.00030027897552218583"
            ]
          },
          "execution_count": 167,
          "metadata": {},
          "output_type": "execute_result"
        }
      ],
      "source": [
        "svm.bias"
      ]
    },
    {
      "cell_type": "code",
      "execution_count": null,
      "metadata": {
        "colab": {
          "base_uri": "https://localhost:8080/",
          "height": 640
        },
        "id": "ZwABjvmx5YU0",
        "outputId": "26fd2bd6-9ee1-4d65-e46f-e2ff33a453da"
      },
      "outputs": [
        {
          "name": "stdout",
          "output_type": "stream",
          "text": [
            "     pcost       dcost       gap    pres   dres\n",
            " 0: -1.9266e+03 -8.2705e+05  2e+06  7e-01  1e-13\n",
            " 1:  4.9329e+03 -2.2002e+05  3e+05  8e-02  1e-13\n",
            " 2:  6.6441e+03 -2.9579e+04  5e+04  9e-03  2e-13\n",
            " 3:  1.6114e+03 -4.7146e+03  7e+03  7e-04  8e-14\n",
            " 4:  6.5100e+02 -3.4525e+03  4e+03  4e-04  6e-14\n",
            " 5:  1.1163e+02 -2.5942e+03  3e+03  2e-04  4e-14\n",
            " 6: -3.4980e+02 -1.7871e+03  1e+03  1e-04  4e-14\n",
            " 7: -4.2966e+02 -1.6949e+03  1e+03  9e-05  4e-14\n",
            " 8: -6.7358e+02 -1.3805e+03  7e+02  2e-05  4e-14\n",
            " 9: -7.0056e+02 -1.3373e+03  6e+02  2e-05  4e-14\n",
            "10: -7.5226e+02 -1.2749e+03  5e+02  1e-05  4e-14\n",
            "11: -8.5205e+02 -1.1347e+03  3e+02  2e-06  4e-14\n",
            "12: -8.9271e+02 -1.0830e+03  2e+02  8e-07  4e-14\n",
            "13: -9.3439e+02 -1.0161e+03  8e+01  2e-15  4e-14\n",
            "14: -9.6076e+02 -9.8615e+02  3e+01  8e-14  4e-14\n",
            "15: -9.6975e+02 -9.7559e+02  6e+00  1e-14  4e-14\n",
            "16: -9.7252e+02 -9.7260e+02  8e-02  3e-14  5e-14\n",
            "17: -9.7256e+02 -9.7256e+02  8e-04  9e-14  4e-14\n",
            "Optimal solution found.\n",
            "SV number:  28\n"
          ]
        },
        {
          "data": {
            "image/png": "[encoded data removed]",
            "text/plain": [
              "<Figure size 432x288 with 1 Axes>"
            ]
          },
          "metadata": {
            "needs_background": "light"
          },
          "output_type": "display_data"
        }
      ],
      "source": [
        "#@title Kernel (Linear) SVM Sanity Check\n",
        "\n",
        "svm = KernelSVM(Kernel.linear(), C=50)\n",
        "test_SVM(svm,linear=True)"
      ]
    },
    {
      "cell_type": "code",
      "execution_count": null,
      "metadata": {
        "colab": {
          "base_uri": "https://localhost:8080/",
          "height": 169
        },
        "id": "VwK1yjlMV7IM",
        "outputId": "100a4d44-0291-4806-a087-237c3dfe9de0"
      },
      "outputs": [
        {
          "ename": "AttributeError",
          "evalue": "ignored",
          "output_type": "error",
          "traceback": [
            "\u001b[0;31m---------------------------------------------------------------------------\u001b[0m",
            "\u001b[0;31mAttributeError\u001b[0m                            Traceback (most recent call last)",
            "\u001b[0;32m<ipython-input-141-9e632d06053d>\u001b[0m in \u001b[0;36m<module>\u001b[0;34m\u001b[0m\n\u001b[0;32m----> 1\u001b[0;31m \u001b[0msvm\u001b[0m\u001b[0;34m.\u001b[0m\u001b[0mprint_bias\u001b[0m\u001b[0;34m(\u001b[0m\u001b[0;34m)\u001b[0m\u001b[0;34m\u001b[0m\u001b[0;34m\u001b[0m\u001b[0m\n\u001b[0m",
            "\u001b[0;31mAttributeError\u001b[0m: 'KernelSVM' object has no attribute 'print_bias'"
          ]
        }
      ],
      "source": [
        "svm.print_bias()"
      ]
    },
    {
      "cell_type": "code",
      "execution_count": null,
      "metadata": {
        "colab": {
          "base_uri": "https://localhost:8080/",
          "height": 533
        },
        "id": "aOt3BNrrghDy",
        "outputId": "68562828-5076-4b7e-e780-cc30299dfb21"
      },
      "outputs": [
        {
          "name": "stdout",
          "output_type": "stream",
          "text": [
            "     pcost       dcost       gap    pres   dres\n",
            " 0:  2.7857e+02 -1.8307e+04  4e+04  3e-01  1e-14\n",
            " 1:  3.7525e+02 -2.8804e+03  4e+03  2e-02  9e-15\n",
            " 2: -3.9160e+01 -8.8039e+02  9e+02  4e-03  8e-15\n",
            " 3: -2.0026e+02 -6.0292e+02  4e+02  2e-03  8e-15\n",
            " 4: -2.9142e+02 -4.5215e+02  2e+02  6e-04  9e-15\n",
            " 5: -3.3427e+02 -3.9529e+02  6e+01  2e-04  9e-15\n",
            " 6: -3.5268e+02 -3.7183e+02  2e+01  3e-05  1e-14\n",
            " 7: -3.5942e+02 -3.6359e+02  4e+00  5e-06  9e-15\n",
            " 8: -3.6090e+02 -3.6177e+02  9e-01  1e-14  1e-14\n",
            " 9: -3.6130e+02 -3.6133e+02  3e-02  4e-15  1e-14\n",
            "10: -3.6132e+02 -3.6132e+02  5e-04  1e-15  1e-14\n",
            "11: -3.6132e+02 -3.6132e+02  1e-05  1e-14  1e-14\n",
            "Optimal solution found.\n",
            "SV number:  59\n"
          ]
        },
        {
          "data": {
            "image/png": "[encoded data removed]",
            "text/plain": [
              "<Figure size 432x288 with 1 Axes>"
            ]
          },
          "metadata": {
            "needs_background": "light"
          },
          "output_type": "display_data"
        }
      ],
      "source": [
        "#@title Kernel (RBF) SVM Sanity Check\n",
        "#feel free to play with sigma and C\n",
        "svm = KernelSVM(Kernel.gaussian(sigma=0.5), C=10)\n",
        "test_SVM(svm,linear=False)"
      ]
    },
    {
      "cell_type": "markdown",
      "metadata": {
        "id": "ugL7eaqIJ6Tc"
      },
      "source": [
        "In the tests above, you should have obtained images that look roughly like this:\n",
        "\n",
        "\n",
        "Linear SVM\n",
        "\n",
        "![linear SVM result](https://drive.google.com/uc?id=1XaRAcsIY1UoRq8xnLY45u01CkzGLAKuB)\n",
        "\n",
        "Linear kernel SVM\n",
        "\n",
        "![linear kernel result](https://drive.google.com/uc?id=1OsuPOEMjbap5M7O2fTWymNwJu7DD9fJa) \n",
        "\n",
        "RBF kernel SVM\n",
        "\n",
        "![RBF kernel result](https://drive.google.com/uc?id=1tbH9STSe7p3dOxt6niJhYI17_Id7HGBY)\n",
        "\n"
      ]
    },
    {
      "cell_type": "markdown",
      "metadata": {
        "id": "rvFRZS1SghD1"
      },
      "source": [
        "#### Now that our SVM is working on the toy dataset, let's do a simple sentiment analysis on [tweets on US airline service quality](https://www.kaggle.com/crowdflower/twitter-airline-sentiment/version/2). (WARNING: expletives unfiltered)\n",
        "---\n",
        "- As shown below, our data comes in the form of a csv table. The columns most relevant to our task are 'text' and 'airline_sentiment'.\n",
        "- Data must be represented as a [N x d] matrix, but what we have on our hands is unstructured text.\n",
        "- The simplest solution to transform an airline review into a vector is [bag of words](https://en.wikipedia.org/wiki/Bag-of-words_model). We maintain a global vocabulary of word patterns gathered from our corpus, with single words such as \"great\", \"horrible\", and optionally consecutive words (N-grams) like \"friendly service\", \"luggage lost\". Suppose we have already collected a total of 10000 such patterns, to transform a sentence into a 10000-dimensional vector, we simply scan it and look for the patterns that appear and set their correponding entries to 1 and leave the rest at 0. What we end up with is a sparse vector that can be fed into SVMs.\n",
        "- For this exercise we use the basic text processing routines in nltk and sklearn\n",
        "- Our data is not balanced, with siginificant more negatives than neutral + positives. Therefore we group neutral and positive into one category and the final ratio of non-negative vs negative is about 1:2. This is consistent across train, val and test"
      ]
    },
    {
      "cell_type": "code",
      "execution_count": 35,
      "metadata": {
        "colab": {
          "base_uri": "https://localhost:8080/"
        },
        "id": "QUmn6ej2ghD2",
        "outputId": "092e10b8-c638-4a31-d9d4-e5bbe6f639d2"
      },
      "outputs": [
        {
          "name": "stderr",
          "output_type": "stream",
          "text": [
            "[nltk_data] Downloading package stopwords to /root/nltk_data...\n",
            "[nltk_data]   Unzipping corpora/stopwords.zip.\n",
            "[nltk_data] Downloading package punkt to /root/nltk_data...\n",
            "[nltk_data]   Unzipping tokenizers/punkt.zip.\n",
            "[nltk_data] Downloading package wordnet to /root/nltk_data...\n",
            "[nltk_data] Downloading package omw-1.4 to /root/nltk_data...\n"
          ]
        }
      ],
      "source": [
        "#@markdown Here, we'll set up the dataset. To show you that this is doing\n",
        "#@markdown something useful, we'll print the first three entries of the\n",
        "#@markdown training set.\n",
        "\n",
        "import os.path as osp\n",
        "import pandas as pd\n",
        "import re, nltk\n",
        "from nltk.stem import WordNetLemmatizer\n",
        "from nltk.corpus import stopwords\n",
        "\n",
        "nltk.download('stopwords')\n",
        "nltk.download('punkt')\n",
        "nltk.download('wordnet')\n",
        "nltk.download('omw-1.4')\n",
        "\n",
        "from sklearn.feature_extraction.text import CountVectorizer\n",
        "\n",
        "train_data  = \"https://ttic.edu/gregory/ttic31020/data/sentiment/tweets/train.csv\"\n",
        "val_data =  \"https://ttic.edu/gregory/ttic31020/data/sentiment/tweets/val.csv\"\n",
        "test_data = \"https://ttic.edu/gregory/ttic31020/data/sentiment/tweets/test_release.csv\"\n",
        "\n",
        "train, val, test = \\\n",
        "    pd.read_csv(train_data), \\\n",
        "    pd.read_csv(val_data), \\\n",
        "    pd.read_csv(test_data)\n"
      ]
    },
    {
      "cell_type": "code",
      "execution_count": 36,
      "metadata": {
        "colab": {
          "base_uri": "https://localhost:8080/",
          "height": 381
        },
        "id": "Af3yLutpf9RI",
        "outputId": "562dad42-ec8c-41c1-9908-bc6b12cf8ee1"
      },
      "outputs": [
        {
          "data": {
            "text/html": [
              "\n",
              "  <div id=\"df-53efea4c-59c9-4e2b-8ce6-47a15ea1335c\">\n",
              "    <div class=\"colab-df-container\">\n",
              "      <div>\n",
              "<style scoped>\n",
              "    .dataframe tbody tr th:only-of-type {\n",
              "        vertical-align: middle;\n",
              "    }\n",
              "\n",
              "    .dataframe tbody tr th {\n",
              "        vertical-align: top;\n",
              "    }\n",
              "\n",
              "    .dataframe thead th {\n",
              "        text-align: right;\n",
              "    }\n",
              "</style>\n",
              "<table border=\"1\" class=\"dataframe\">\n",
              "  <thead>\n",
              "    <tr style=\"text-align: right;\">\n",
              "      <th></th>\n",
              "      <th>Unnamed: 0</th>\n",
              "      <th>tweet_id</th>\n",
              "      <th>airline_sentiment</th>\n",
              "      <th>airline_sentiment_confidence</th>\n",
              "      <th>negativereason</th>\n",
              "      <th>negativereason_confidence</th>\n",
              "      <th>airline</th>\n",
              "      <th>airline_sentiment_gold</th>\n",
              "      <th>name</th>\n",
              "      <th>negativereason_gold</th>\n",
              "      <th>retweet_count</th>\n",
              "      <th>text</th>\n",
              "      <th>tweet_coord</th>\n",
              "      <th>tweet_created</th>\n",
              "      <th>tweet_location</th>\n",
              "      <th>user_timezone</th>\n",
              "    </tr>\n",
              "  </thead>\n",
              "  <tbody>\n",
              "    <tr>\n",
              "      <th>0</th>\n",
              "      <td>3816</td>\n",
              "      <td>568103618500530176</td>\n",
              "      <td>neutral</td>\n",
              "      <td>1.0</td>\n",
              "      <td>NaN</td>\n",
              "      <td>NaN</td>\n",
              "      <td>United</td>\n",
              "      <td>NaN</td>\n",
              "      <td>willyvideo</td>\n",
              "      <td>NaN</td>\n",
              "      <td>0</td>\n",
              "      <td>@united #sfo #ClearVision #TV4U @ United Termi...</td>\n",
              "      <td>[37.62006843, -122.38822083]</td>\n",
              "      <td>2015-02-18 09:43:52 -0800</td>\n",
              "      <td>NaN</td>\n",
              "      <td>Pacific Time (US &amp; Canada)</td>\n",
              "    </tr>\n",
              "    <tr>\n",
              "      <th>1</th>\n",
              "      <td>10306</td>\n",
              "      <td>569379979055796224</td>\n",
              "      <td>negative</td>\n",
              "      <td>1.0</td>\n",
              "      <td>Customer Service Issue</td>\n",
              "      <td>0.6465</td>\n",
              "      <td>US Airways</td>\n",
              "      <td>NaN</td>\n",
              "      <td>PhilHagen</td>\n",
              "      <td>NaN</td>\n",
              "      <td>1</td>\n",
              "      <td>@USAirways yes, i am as well.  **FIVE** HOURS ...</td>\n",
              "      <td>NaN</td>\n",
              "      <td>2015-02-21 22:15:40 -0800</td>\n",
              "      <td>Lewes, DE, USA</td>\n",
              "      <td>Eastern Time (US &amp; Canada)</td>\n",
              "    </tr>\n",
              "    <tr>\n",
              "      <th>2</th>\n",
              "      <td>292</td>\n",
              "      <td>568840724700995584</td>\n",
              "      <td>negative</td>\n",
              "      <td>1.0</td>\n",
              "      <td>Flight Booking Problems</td>\n",
              "      <td>0.3895</td>\n",
              "      <td>Virgin America</td>\n",
              "      <td>NaN</td>\n",
              "      <td>notthatnathan</td>\n",
              "      <td>NaN</td>\n",
              "      <td>0</td>\n",
              "      <td>@VirginAmerica Funny story, your website is br...</td>\n",
              "      <td>NaN</td>\n",
              "      <td>2015-02-20 10:32:51 -0800</td>\n",
              "      <td>Portland, Maine</td>\n",
              "      <td>Eastern Time (US &amp; Canada)</td>\n",
              "    </tr>\n",
              "  </tbody>\n",
              "</table>\n",
              "</div>\n",
              "      <button class=\"colab-df-convert\" onclick=\"convertToInteractive('df-53efea4c-59c9-4e2b-8ce6-47a15ea1335c')\"\n",
              "              title=\"Convert this dataframe to an interactive table.\"\n",
              "              style=\"display:none;\">\n",
              "        \n",
              "  <svg xmlns=\"http://www.w3.org/2000/svg\" height=\"24px\"viewBox=\"0 0 24 24\"\n",
              "       width=\"24px\">\n",
              "    <path d=\"M0 0h24v24H0V0z\" fill=\"none\"/>\n",
              "    <path d=\"M18.56 5.44l.94 2.06.94-2.06 2.06-.94-2.06-.94-.94-2.06-.94 2.06-2.06.94zm-11 1L8.5 8.5l.94-2.06 2.06-.94-2.06-.94L8.5 2.5l-.94 2.06-2.06.94zm10 10l.94 2.06.94-2.06 2.06-.94-2.06-.94-.94-2.06-.94 2.06-2.06.94z\"/><path d=\"M17.41 7.96l-1.37-1.37c-.4-.4-.92-.59-1.43-.59-.52 0-1.04.2-1.43.59L10.3 9.45l-7.72 7.72c-.78.78-.78 2.05 0 2.83L4 21.41c.39.39.9.59 1.41.59.51 0 1.02-.2 1.41-.59l7.78-7.78 2.81-2.81c.8-.78.8-2.07 0-2.86zM5.41 20L4 18.59l7.72-7.72 1.47 1.35L5.41 20z\"/>\n",
              "  </svg>\n",
              "      </button>\n",
              "      \n",
              "  <style>\n",
              "    .colab-df-container {\n",
              "      display:flex;\n",
              "      flex-wrap:wrap;\n",
              "      gap: 12px;\n",
              "    }\n",
              "\n",
              "    .colab-df-convert {\n",
              "      background-color: #E8F0FE;\n",
              "      border: none;\n",
              "      border-radius: 50%;\n",
              "      cursor: pointer;\n",
              "      display: none;\n",
              "      fill: #1967D2;\n",
              "      height: 32px;\n",
              "      padding: 0 0 0 0;\n",
              "      width: 32px;\n",
              "    }\n",
              "\n",
              "    .colab-df-convert:hover {\n",
              "      background-color: #E2EBFA;\n",
              "      box-shadow: 0px 1px 2px rgba(60, 64, 67, 0.3), 0px 1px 3px 1px rgba(60, 64, 67, 0.15);\n",
              "      fill: #174EA6;\n",
              "    }\n",
              "\n",
              "    [theme=dark] .colab-df-convert {\n",
              "      background-color: #3B4455;\n",
              "      fill: #D2E3FC;\n",
              "    }\n",
              "\n",
              "    [theme=dark] .colab-df-convert:hover {\n",
              "      background-color: #434B5C;\n",
              "      box-shadow: 0px 1px 3px 1px rgba(0, 0, 0, 0.15);\n",
              "      filter: drop-shadow(0px 1px 2px rgba(0, 0, 0, 0.3));\n",
              "      fill: #FFFFFF;\n",
              "    }\n",
              "  </style>\n",
              "\n",
              "      <script>\n",
              "        const buttonEl =\n",
              "          document.querySelector('#df-53efea4c-59c9-4e2b-8ce6-47a15ea1335c button.colab-df-convert');\n",
              "        buttonEl.style.display =\n",
              "          google.colab.kernel.accessAllowed ? 'block' : 'none';\n",
              "\n",
              "        async function convertToInteractive(key) {\n",
              "          const element = document.querySelector('#df-53efea4c-59c9-4e2b-8ce6-47a15ea1335c');\n",
              "          const dataTable =\n",
              "            await google.colab.kernel.invokeFunction('convertToInteractive',\n",
              "                                                     [key], {});\n",
              "          if (!dataTable) return;\n",
              "\n",
              "          const docLinkHtml = 'Like what you see? Visit the ' +\n",
              "            '<a target=\"_blank\" href=https://colab.research.google.com/notebooks/data_table.ipynb>data table notebook</a>'\n",
              "            + ' to learn more about interactive tables.';\n",
              "          element.innerHTML = '';\n",
              "          dataTable['output_type'] = 'display_data';\n",
              "          await google.colab.output.renderOutput(dataTable, element);\n",
              "          const docLink = document.createElement('div');\n",
              "          docLink.innerHTML = docLinkHtml;\n",
              "          element.appendChild(docLink);\n",
              "        }\n",
              "      </script>\n",
              "    </div>\n",
              "  </div>\n",
              "  "
            ],
            "text/plain": [
              "   Unnamed: 0            tweet_id airline_sentiment  \\\n",
              "0        3816  568103618500530176           neutral   \n",
              "1       10306  569379979055796224          negative   \n",
              "2         292  568840724700995584          negative   \n",
              "\n",
              "   airline_sentiment_confidence           negativereason  \\\n",
              "0                           1.0                      NaN   \n",
              "1                           1.0   Customer Service Issue   \n",
              "2                           1.0  Flight Booking Problems   \n",
              "\n",
              "   negativereason_confidence         airline airline_sentiment_gold  \\\n",
              "0                        NaN          United                    NaN   \n",
              "1                     0.6465      US Airways                    NaN   \n",
              "2                     0.3895  Virgin America                    NaN   \n",
              "\n",
              "            name negativereason_gold  retweet_count  \\\n",
              "0     willyvideo                 NaN              0   \n",
              "1      PhilHagen                 NaN              1   \n",
              "2  notthatnathan                 NaN              0   \n",
              "\n",
              "                                                text  \\\n",
              "0  @united #sfo #ClearVision #TV4U @ United Termi...   \n",
              "1  @USAirways yes, i am as well.  **FIVE** HOURS ...   \n",
              "2  @VirginAmerica Funny story, your website is br...   \n",
              "\n",
              "                    tweet_coord              tweet_created   tweet_location  \\\n",
              "0  [37.62006843, -122.38822083]  2015-02-18 09:43:52 -0800              NaN   \n",
              "1                           NaN  2015-02-21 22:15:40 -0800   Lewes, DE, USA   \n",
              "2                           NaN  2015-02-20 10:32:51 -0800  Portland, Maine   \n",
              "\n",
              "                user_timezone  \n",
              "0  Pacific Time (US & Canada)  \n",
              "1  Eastern Time (US & Canada)  \n",
              "2  Eastern Time (US & Canada)  "
            ]
          },
          "execution_count": 36,
          "metadata": {},
          "output_type": "execute_result"
        }
      ],
      "source": [
        "train.head(3)\n"
      ]
    },
    {
      "cell_type": "code",
      "execution_count": null,
      "metadata": {
        "colab": {
          "base_uri": "https://localhost:8080/"
        },
        "id": "TRQu2zlF7BAR",
        "outputId": "67045e87-cd6d-4588-cb53-fc40b5ac238b"
      },
      "outputs": [
        {
          "data": {
            "text/plain": [
              "negative    5905\n",
              "neutral     1804\n",
              "positive    1442\n",
              "Name: airline_sentiment, dtype: int64"
            ]
          },
          "execution_count": 152,
          "metadata": {},
          "output_type": "execute_result"
        }
      ],
      "source": [
        "train.airline_sentiment.value_counts()"
      ]
    },
    {
      "cell_type": "code",
      "execution_count": 37,
      "metadata": {
        "colab": {
          "base_uri": "https://localhost:8080/"
        },
        "id": "E1Zp-mi8ghEB",
        "outputId": "874e199e-aca1-40ad-9d2f-e39e2ddce19b"
      },
      "outputs": [
        {
          "name": "stderr",
          "output_type": "stream",
          "text": [
            "/usr/local/lib/python3.7/dist-packages/sklearn/feature_extraction/text.py:517: UserWarning: The parameter 'token_pattern' will not be used since 'tokenizer' is not None'\n",
            "  \"The parameter 'token_pattern' will not be used\"\n"
          ]
        },
        {
          "name": "stdout",
          "output_type": "stream",
          "text": [
            "[('u', 153), ('united', 155), ('airport', 4), ('http', 71), ('co', 29), ('hour', 69), ('hold', 65), ('please', 114), ('tell', 139), ('trying', 151)]\n",
            "\n",
            " vocabulary size 172\n"
          ]
        }
      ],
      "source": [
        "#@title Vectorizing the vocabulary\n",
        "#@markdown Here, we build the vocabulary and vector representations for each\n",
        "#@markdown word. You may find it useful to modify parts of this later, but it's\n",
        "#@markdown not strictly necessary. We then sample some of the learned\n",
        "#@markdown vocabulary.\n",
        "\n",
        "# check these out \n",
        "stop_words = set(stopwords.words('english'))\n",
        "wordnet_lemmatizer = WordNetLemmatizer()\n",
        "def tokenize_normalize(tweet):\n",
        "    only_letters = re.sub(\"[^a-zA-Z]\", \" \", tweet)\n",
        "    tokens = nltk.word_tokenize(only_letters)[2:]\n",
        "    lower_case = [l.lower() for l in tokens]\n",
        "    filtered_result = list(filter(lambda l: l not in stop_words, lower_case))\n",
        "    lemmas = [wordnet_lemmatizer.lemmatize(t) for t in filtered_result]\n",
        "    return lemmas\n",
        "\n",
        "# the sklearn vectorizer scans our corpus, build the vocabulary, and changes text into vectors\n",
        "vectorizer = CountVectorizer(\n",
        "    strip_accents='unicode', \n",
        "    lowercase=True, \n",
        "    tokenizer=tokenize_normalize,\n",
        "    ngram_range=(1,1),  # you may want to try 2 grams. The vocab will get very large though,\n",
        "    min_df=100,  # this parameter deletes words that occur in less than min_df\n",
        "                # documents. decreasing this will increase the vocabulary size,\n",
        "                # but may also increase the runtime.\n",
        ")\n",
        "# first learn the vocabulary\n",
        "vectorizer.fit(pd.concat([train, val]).text)\n",
        "\n",
        "\n",
        "print( list(vectorizer.vocabulary_.items())[:10] )\n",
        "print(\"\\n vocabulary size {}\".format(len(vectorizer.vocabulary_)))"
      ]
    },
    {
      "cell_type": "code",
      "execution_count": 38,
      "metadata": {
        "colab": {
          "base_uri": "https://localhost:8080/"
        },
        "id": "ElkjTodLghEG",
        "outputId": "4cf811d6-cc3b-4f36-e44c-bf0bf2bdde52"
      },
      "outputs": [
        {
          "name": "stdout",
          "output_type": "stream",
          "text": [
            "(9151, 172)\n"
          ]
        }
      ],
      "source": [
        "#@title Setting up the training set\n",
        "#@markdown Now, we will prepare the training data so that we can call our\n",
        "#@markdown SVM as a black-box.\n",
        "\n",
        "X = {}\n",
        "y = {}\n",
        "X['train'] = vectorizer.transform(train.text).toarray()\n",
        "X['val'] = vectorizer.transform(val.text).toarray()\n",
        "X['test'] = vectorizer.transform(test.text).toarray()\n",
        "\n",
        "# note that our data is 10250 dimensional. \n",
        "# This is a little daunting for laptops and coming up with a manageable vector\n",
        "# representation is a major topic in Natural Language Processing.\n",
        "print(X['train'].shape)\n",
        "\n",
        "# convert the word labels of 'positive', 'neutral', 'negative' into integer labels\n",
        "# note that positive and neural belong to one category, labelled as 1, while negative stands alone as the other\n",
        "for name, dataframe in zip(['train', 'val'], [train, val]):\n",
        "    sentiments_in_words = dataframe['airline_sentiment'].tolist()\n",
        "    int_lbls = np.array( list(map(lambda x: -1 if x == 'negative' else 1, sentiments_in_words)), dtype=np.int32 )\n",
        "    y[name] = int_lbls"
      ]
    },
    {
      "cell_type": "code",
      "execution_count": null,
      "metadata": {
        "id": "AM18QAe3wG1w"
      },
      "outputs": [],
      "source": []
    },
    {
      "cell_type": "markdown",
      "metadata": {
        "id": "ww5_kRLLwHPv"
      },
      "source": [
        "- Try to come up with a better text feature representation. We threw out all the emojis. >< what a waste\n",
        "- Play around with different parameter settings and compute the accuracy\n",
        "- Given the high feature dimensionality of our primitive text processing, we do not recommend using kernel SVM here. It could take a long time to train. If you reduce the feature dimensionality, then it's a different story"
      ]
    },
    {
      "cell_type": "code",
      "execution_count": 51,
      "metadata": {
        "colab": {
          "base_uri": "https://localhost:8080/"
        },
        "id": "536A07IYghEJ",
        "outputId": "d7f3695d-981b-44c3-f5c4-e5d586704aee"
      },
      "outputs": [
        {
          "name": "stdout",
          "output_type": "stream",
          "text": [
            "training complete\n",
            "When num_epoch = 10, C = 0.1,\n",
            "5905 out of 9151 correct, acc 0.645\n",
            "1277 out of 2000 correct, acc 0.638\n",
            "training complete\n",
            "When num_epoch = 30, C = 0.1,\n",
            "5905 out of 9151 correct, acc 0.645\n",
            "1277 out of 2000 correct, acc 0.638\n",
            "training complete\n",
            "When num_epoch = 100, C = 0.1,\n",
            "5905 out of 9151 correct, acc 0.645\n",
            "1277 out of 2000 correct, acc 0.638\n",
            "training complete\n",
            "When num_epoch = 10, C = 1,\n",
            "5905 out of 9151 correct, acc 0.645\n",
            "1277 out of 2000 correct, acc 0.638\n",
            "training complete\n",
            "When num_epoch = 30, C = 1,\n",
            "5905 out of 9151 correct, acc 0.645\n",
            "1277 out of 2000 correct, acc 0.638\n",
            "training complete\n",
            "When num_epoch = 100, C = 1,\n",
            "5905 out of 9151 correct, acc 0.645\n",
            "1277 out of 2000 correct, acc 0.638\n",
            "training complete\n",
            "When num_epoch = 10, C = 10,\n",
            "6170 out of 9151 correct, acc 0.674\n",
            "1341 out of 2000 correct, acc 0.670\n",
            "training complete\n",
            "When num_epoch = 30, C = 10,\n",
            "6167 out of 9151 correct, acc 0.674\n",
            "1341 out of 2000 correct, acc 0.670\n",
            "training complete\n",
            "When num_epoch = 100, C = 10,\n",
            "6175 out of 9151 correct, acc 0.675\n",
            "1344 out of 2000 correct, acc 0.672\n",
            "training complete\n",
            "When num_epoch = 10, C = 100,\n",
            "6388 out of 9151 correct, acc 0.698\n",
            "1386 out of 2000 correct, acc 0.693\n",
            "training complete\n",
            "When num_epoch = 30, C = 100,\n",
            "6818 out of 9151 correct, acc 0.745\n",
            "1482 out of 2000 correct, acc 0.741\n",
            "training complete\n",
            "When num_epoch = 100, C = 100,\n",
            "6906 out of 9151 correct, acc 0.755\n",
            "1503 out of 2000 correct, acc 0.751\n",
            "training complete\n",
            "When num_epoch = 10, C = 1000,\n",
            "6413 out of 9151 correct, acc 0.701\n",
            "1387 out of 2000 correct, acc 0.694\n",
            "training complete\n",
            "When num_epoch = 30, C = 1000,\n",
            "6897 out of 9151 correct, acc 0.754\n",
            "1495 out of 2000 correct, acc 0.748\n",
            "training complete\n",
            "When num_epoch = 100, C = 1000,\n",
            "7126 out of 9151 correct, acc 0.779\n",
            "1530 out of 2000 correct, acc 0.765\n",
            "The best parameter is C:1000, epoch=100, acc=0.765\n"
          ]
        }
      ],
      "source": [
        "#@title Linear SVM on the airline dataset **(To be modified)**\n",
        "\n",
        "#YOUR CODE HERE\n",
        "## - Instatiate linear svm, fit it to data, play around with the hyperparameters, and do the following\n",
        "## - Compute the train accuracy\n",
        "## - Compute the validation accuracy\n",
        "\n",
        "C = [0.1, 1, 10, 100, 1000]\n",
        "epochs = [10, 30, 100]\n",
        "\n",
        "best_C = 0\n",
        "best_epoch = 0\n",
        "best_acc = 0\n",
        "\n",
        "for i in C:\n",
        "  svm = LinearSVM(C = i)\n",
        "  for epoch in epochs:\n",
        "    svm.fit(X['train'], y['train'], epoch, lr_sched=lambda t: 0.1/t)\n",
        "    print(\"When num_epoch = {}, C = {},\".format(epoch, i))\n",
        "    compute_acc(svm, X['train'], y['train'])\n",
        "    acc = compute_acc(svm, X['val'], y['val'])\n",
        "    if (acc > best_acc):\n",
        "      best_epoch = epoch\n",
        "      best_C = i\n",
        "      best_acc = acc\n",
        "\n",
        "print(\"The best parameter is C:{}, epoch={}, acc={}\".format(best_C, best_epoch,\n",
        "                                                                best_acc))\n"
      ]
    },
    {
      "cell_type": "code",
      "execution_count": null,
      "metadata": {
        "colab": {
          "base_uri": "https://localhost:8080/"
        },
        "id": "5vcZ6G51keyb",
        "outputId": "9ee30d4d-f65e-40f8-8fbb-74bf8ed26646"
      },
      "outputs": [
        {
          "name": "stdout",
          "output_type": "stream",
          "text": [
            "training complete\n"
          ]
        },
        {
          "data": {
            "text/plain": [
              "<__main__.LinearSVM at 0x7f37235764d0>"
            ]
          },
          "execution_count": 206,
          "metadata": {},
          "output_type": "execute_result"
        }
      ],
      "source": [
        "# The best accuracy rate I get is 0.765\n",
        "# The best parameter is C = 1000, epoch = 100"
      ]
    },
    {
      "cell_type": "markdown",
      "metadata": {
        "id": "ViEpHTuCvy9r"
      },
      "source": [
        "**Report the accuracies and the hyperparameters**"
      ]
    },
    {
      "cell_type": "code",
      "execution_count": null,
      "metadata": {
        "colab": {
          "base_uri": "https://localhost:8080/"
        },
        "id": "d1VkbuDr5ePe",
        "outputId": "d640ee91-9250-431b-9c42-5a457abfe388"
      },
      "outputs": [
        {
          "name": "stdout",
          "output_type": "stream",
          "text": [
            "(9151, 172)\n",
            "     pcost       dcost       gap    pres   dres\n",
            " 0: -5.7725e+03 -2.7218e+04  1e+05  3e+00  4e-14\n",
            " 1: -3.9422e+03 -2.0079e+04  3e+04  5e-01  4e-14\n",
            " 2: -3.6908e+03 -9.7764e+03  8e+03  9e-02  3e-14\n",
            " 3: -4.0515e+03 -5.9003e+03  2e+03  2e-02  3e-14\n",
            " 4: -4.2891e+03 -5.2938e+03  1e+03  1e-02  3e-14\n",
            " 5: -4.3895e+03 -5.0624e+03  7e+02  5e-03  3e-14\n",
            " 6: -4.5006e+03 -4.8235e+03  3e+02  2e-03  3e-14\n",
            " 7: -4.5380e+03 -4.7506e+03  2e+02  1e-03  4e-14\n",
            " 8: -4.5748e+03 -4.6797e+03  1e+02  2e-04  3e-14\n",
            " 9: -4.5969e+03 -4.6472e+03  5e+01  1e-04  3e-14\n",
            "10: -4.6074e+03 -4.6316e+03  2e+01  3e-05  3e-14\n",
            "11: -4.6140e+03 -4.6229e+03  9e+00  3e-06  4e-14\n",
            "12: -4.6169e+03 -4.6197e+03  3e+00  7e-07  4e-14\n",
            "13: -4.6177e+03 -4.6187e+03  1e+00  2e-07  5e-14\n",
            "14: -4.6180e+03 -4.6184e+03  4e-01  5e-08  4e-14\n",
            "15: -4.6182e+03 -4.6182e+03  7e-02  5e-09  4e-14\n",
            "16: -4.6182e+03 -4.6182e+03  1e-02  6e-10  4e-14\n",
            "17: -4.6182e+03 -4.6182e+03  6e-04  3e-14  4e-14\n",
            "Optimal solution found.\n",
            "SV number:  4836\n",
            "7245 out of 9151 correct, acc 0.792\n",
            "1560 out of 2000 correct, acc 0.780\n",
            "     pcost       dcost       gap    pres   dres\n",
            " 0: -3.1356e+04 -1.0751e+06  3e+06  1e+00  2e-13\n",
            " 1: -2.8380e+04 -5.4784e+05  7e+05  2e-01  2e-13\n",
            " 2: -2.8954e+04 -1.9365e+05  2e+05  4e-02  2e-13\n",
            " 3: -3.2809e+04 -8.9625e+04  6e+04  9e-03  2e-13\n",
            " 4: -3.7908e+04 -6.4435e+04  3e+04  4e-03  4e-13\n",
            " 5: -3.9927e+04 -5.9133e+04  2e+04  2e-03  3e-13\n",
            " 6: -4.1632e+04 -5.4616e+04  1e+04  1e-03  3e-13\n",
            " 7: -4.2750e+04 -5.1849e+04  9e+03  9e-04  3e-13\n",
            " 8: -4.3717e+04 -4.9562e+04  6e+03  5e-04  3e-13\n",
            " 9: -4.4407e+04 -4.7954e+04  4e+03  2e-04  3e-13\n",
            "10: -4.4846e+04 -4.7023e+04  2e+03  9e-05  3e-13\n",
            "11: -4.5166e+04 -4.6399e+04  1e+03  3e-05  4e-13\n",
            "12: -4.5463e+04 -4.5923e+04  5e+02  4e-06  4e-13\n",
            "13: -4.5561e+04 -4.5792e+04  2e+02  2e-06  3e-13\n",
            "14: -4.5607e+04 -4.5732e+04  1e+02  7e-07  3e-13\n",
            "15: -4.5638e+04 -4.5694e+04  6e+01  1e-07  3e-13\n",
            "16: -4.5655e+04 -4.5674e+04  2e+01  2e-08  4e-13\n",
            "17: -4.5660e+04 -4.5669e+04  9e+00  5e-09  4e-13\n",
            "18: -4.5663e+04 -4.5666e+04  3e+00  5e-10  4e-13\n",
            "19: -4.5664e+04 -4.5665e+04  1e+00  1e-10  4e-13\n",
            "20: -4.5664e+04 -4.5665e+04  1e+00  1e-10  4e-13\n",
            "21: -4.5664e+04 -4.5664e+04  2e-01  2e-11  4e-13\n",
            "22: -4.5664e+04 -4.5664e+04  8e-03  9e-13  4e-13\n",
            "Optimal solution found.\n",
            "SV number:  4856\n",
            "7241 out of 9151 correct, acc 0.791\n",
            "1555 out of 2000 correct, acc 0.777\n",
            "     pcost       dcost       gap    pres   dres\n",
            " 0: -1.3729e+05 -2.3259e+07  6e+07  1e+00  1e-12\n",
            " 1: -1.1257e+05 -1.0858e+07  1e+07  1e-01  1e-12\n",
            " 2: -1.2303e+05 -3.9271e+06  4e+06  4e-02  1e-12\n",
            " 3: -1.3688e+05 -1.0556e+06  9e+05  5e-03  1e-12\n",
            " 4: -1.6031e+05 -3.8514e+05  2e+05  1e-03  1e-12\n",
            " 5: -1.6863e+05 -3.7300e+05  2e+05  1e-03  1e-12\n",
            " 6: -1.9463e+05 -3.0258e+05  1e+05  4e-04  1e-12\n",
            " 7: -2.0131e+05 -2.8706e+05  9e+04  3e-04  1e-12\n",
            " 8: -2.1123e+05 -2.6276e+05  5e+04  2e-04  1e-12\n",
            " 9: -2.1517e+05 -2.5387e+05  4e+04  1e-04  1e-12\n",
            "10: -2.1821e+05 -2.4709e+05  3e+04  6e-05  1e-12\n",
            "11: -2.2197e+05 -2.3893e+05  2e+04  3e-05  2e-12\n",
            "12: -2.2433e+05 -2.3435e+05  1e+04  1e-05  2e-12\n",
            "13: -2.2585e+05 -2.3131e+05  5e+03  4e-06  2e-12\n",
            "14: -2.2711e+05 -2.2931e+05  2e+03  7e-07  2e-12\n",
            "15: -2.2722e+05 -2.2914e+05  2e+03  5e-07  2e-12\n",
            "16: -2.2770e+05 -2.2853e+05  8e+02  2e-07  2e-12\n",
            "17: -2.2788e+05 -2.2830e+05  4e+02  5e-08  2e-12\n",
            "18: -2.2796e+05 -2.2820e+05  2e+02  2e-08  2e-12\n",
            "19: -2.2802e+05 -2.2813e+05  1e+02  8e-09  2e-12\n",
            "20: -2.2805e+05 -2.2810e+05  5e+01  8e-10  2e-12\n",
            "21: -2.2806e+05 -2.2808e+05  2e+01  3e-10  2e-12\n",
            "22: -2.2807e+05 -2.2808e+05  9e+00  9e-11  2e-12\n",
            "23: -2.2807e+05 -2.2807e+05  3e+00  2e-11  2e-12\n",
            "24: -2.2807e+05 -2.2807e+05  1e+00  6e-12  2e-12\n",
            "25: -2.2807e+05 -2.2807e+05  3e-01  8e-13  2e-12\n",
            "26: -2.2807e+05 -2.2807e+05  2e-01  3e-13  2e-12\n",
            "Optimal solution found.\n",
            "SV number:  6785\n",
            "7279 out of 9151 correct, acc 0.795\n",
            "1559 out of 2000 correct, acc 0.779\n",
            "     pcost       dcost       gap    pres   dres\n",
            " 0: -2.5186e+05 -9.1226e+07  2e+08  1e+00  2e-12\n",
            " 1: -1.7090e+05 -4.2019e+07  5e+07  1e-01  2e-12\n",
            " 2: -2.1761e+05 -1.5253e+07  2e+07  4e-02  2e-12\n",
            " 3: -2.5931e+05 -3.8275e+06  4e+06  5e-03  2e-12\n",
            " 4: -2.9528e+05 -8.4772e+05  6e+05  7e-04  2e-12\n",
            " 5: -3.4230e+05 -7.3865e+05  4e+05  4e-04  2e-12\n",
            " 6: -3.8994e+05 -6.1406e+05  2e+05  2e-04  3e-12\n",
            " 7: -4.0375e+05 -5.7798e+05  2e+05  1e-04  3e-12\n",
            " 8: -4.2132e+05 -5.3188e+05  1e+05  6e-05  3e-12\n",
            " 9: -4.2943e+05 -5.1217e+05  8e+04  4e-05  3e-12\n",
            "10: -4.3752e+05 -4.9322e+05  6e+04  2e-05  3e-12\n",
            "11: -4.4402e+05 -4.7789e+05  3e+04  1e-05  3e-12\n",
            "12: -4.4870e+05 -4.6855e+05  2e+04  5e-06  3e-12\n",
            "13: -4.5180e+05 -4.6239e+05  1e+04  1e-06  4e-12\n",
            "14: -4.5418e+05 -4.5861e+05  4e+03  3e-07  4e-12\n",
            "15: -4.5501e+05 -4.5739e+05  2e+03  9e-08  4e-12\n",
            "16: -4.5539e+05 -4.5689e+05  1e+03  3e-08  4e-12\n",
            "17: -4.5581e+05 -4.5639e+05  6e+02  7e-09  4e-12\n",
            "18: -4.5592e+05 -4.5627e+05  4e+02  3e-09  4e-12\n",
            "19: -4.5600e+05 -4.5617e+05  2e+02  8e-10  3e-12\n",
            "20: -4.5605e+05 -4.5612e+05  8e+01  2e-10  4e-12\n",
            "21: -4.5607e+05 -4.5610e+05  3e+01  7e-11  3e-12\n",
            "22: -4.5608e+05 -4.5609e+05  1e+01  9e-12  4e-12\n",
            "23: -4.5608e+05 -4.5608e+05  4e+00  3e-12  4e-12\n",
            "24: -4.5608e+05 -4.5608e+05  1e+00  1e-12  3e-12\n",
            "25: -4.5608e+05 -4.5608e+05  6e-01  5e-12  4e-12\n",
            "26: -4.5608e+05 -4.5608e+05  3e-01  3e-12  4e-12\n",
            "Optimal solution found.\n",
            "SV number:  6940\n",
            "7269 out of 9151 correct, acc 0.794\n",
            "1559 out of 2000 correct, acc 0.779\n",
            "The best parameter is C:1,acc=0.78\n"
          ]
        }
      ],
      "source": [
        "#@title Kernel SVM with linear kernel on the airline dataset **(To be modified)**\n",
        "#@markdown This could take a while to run.\n",
        "\n",
        "print(X['train'].shape)\n",
        "\n",
        "#YOUR CODE HERE\n",
        "## - Instatiate kernel svm with linear kernel, fit it to data, play around with the hyperparameters, and do the following\n",
        "## - Compute the train accuracy\n",
        "## - Compute the validation accuracy\n",
        "\n",
        "C = [1, 10, 50, 100]\n",
        "\n",
        "best_c = 0\n",
        "best_acc = 0\n",
        "\n",
        "for c in C:\n",
        "  svm = KernelSVM(Kernel.linear(), C=c)\n",
        "  svm.fit(X['train'].astype('float'), y['train'].astype('float'))\n",
        "  compute_acc(svm, X['train'], y['train'])\n",
        "  acc = compute_acc(svm, X['val'], y['val'])\n",
        "  if (acc > best_acc):\n",
        "      best_C = c\n",
        "      best_acc = acc\n",
        "\n",
        "\n",
        "print(\"The best parameter is C:{},acc={}\".format(best_C, best_acc))\n"
      ]
    },
    {
      "cell_type": "markdown",
      "metadata": {
        "id": "_NkuSrYiv8Ob"
      },
      "source": [
        "**Report the accuracies and the hyperparameters**"
      ]
    },
    {
      "cell_type": "code",
      "execution_count": null,
      "metadata": {
        "id": "k2u8o5Y5HAr6"
      },
      "outputs": [],
      "source": [
        "#@title Kernel SVM with RBF kernel on the airline dataset **(To be modified)**\n",
        "#@markdown This could take a while to run.\n",
        "\n",
        "# sigma=5,C=20: ~78% val acc\n",
        "\n",
        "print(X['train'].shape)"
      ]
    },
    {
      "cell_type": "code",
      "execution_count": null,
      "metadata": {
        "id": "tW7N79BtrR0Y"
      },
      "outputs": [],
      "source": [
        "from tkinter import S\n",
        "#YOUR CODE HERE\n",
        "## - Instatiate kernel svm with RBF kernel, fit it to data, play around with the hyperparameters, and do the following\n",
        "## - Compute the train accuracy\n",
        "## - Compute the validation accuracy\n",
        "\n",
        "C = [1, 10, 50, 100]\n",
        "sigma = [0.2, 0.5, 1]\n",
        "\n",
        "best_c = 0\n",
        "best_acc = 0\n",
        "best_sigma = 0\n",
        "\n",
        "\n",
        "for c in C:\n",
        "  for s in sigma:\n",
        "    svm = KernelSVM(Kernel.gaussian(sigma= s), C= c)\n",
        "    svm.fit(X['train'].astype('float'), y['train'].astype('float'))\n",
        "    compute_acc(svm, X['train'], y['train'])\n",
        "    acc = compute_acc(svm, X['val'], y['val'])\n",
        "    if (acc > best_acc):\n",
        "        best_C = c\n",
        "        best_acc = acc\n",
        "        best_sigma = s\n",
        "\n",
        "\n",
        "print(\"The best parameter is C:{},acc={}, sigma ={}\".format(best_C, best_acc, \n",
        "                                                              best_sigma))\n"
      ]
    },
    {
      "cell_type": "markdown",
      "metadata": {
        "id": "QlbnIGa4v-C6"
      },
      "source": [
        "**Report the accuracies and the hyperparameters**"
      ]
    },
    {
      "cell_type": "code",
      "execution_count": null,
      "metadata": {
        "id": "G4XaahEprrAz"
      },
      "outputs": [],
      "source": []
    },
    {
      "cell_type": "code",
      "execution_count": null,
      "metadata": {
        "id": "V3CgQgijrq65"
      },
      "outputs": [],
      "source": []
    }
  ],
  "metadata": {
    "colab": {
      "collapsed_sections": [],
      "provenance": []
    },
    "kernelspec": {
      "display_name": "Python 3",
      "language": "python",
      "name": "python3"
    },
    "language_info": {
      "codemirror_mode": {
        "name": "ipython",
        "version": 3
      },
      "file_extension": ".py",
      "mimetype": "text/x-python",
      "name": "python",
      "nbconvert_exporter": "python",
      "pygments_lexer": "ipython3",
      "version": "3.6.3"
    }
  },
  "nbformat": 4,
  "nbformat_minor": 0
}
