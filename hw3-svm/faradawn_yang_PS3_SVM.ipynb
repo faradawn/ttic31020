{
  "nbformat": 4,
  "nbformat_minor": 0,
  "metadata": {
    "kernelspec": {
      "display_name": "Python 3",
      "language": "python",
      "name": "python3"
    },
    "language_info": {
      "codemirror_mode": {
        "name": "ipython",
        "version": 3
      },
      "file_extension": ".py",
      "mimetype": "text/x-python",
      "name": "python",
      "nbconvert_exporter": "python",
      "pygments_lexer": "ipython3",
      "version": "3.6.3"
    },
    "colab": {
      "provenance": [],
      "collapsed_sections": []
    }
  },
  "cells": [
    {
      "cell_type": "markdown",
      "metadata": {
        "id": "wCq8kJ42ghDl"
      },
      "source": [
        "### TTIC 31020 Introduction to Statistical Machine Learning: SVMs via sub-gradient descent and quadratic programming\n",
        "---\n",
        "**About Colab**\n",
        "\n",
        "Colab is essentially an online version of Jupyter. The functionality is essentially the same, but we get the added benefit of some nicer UI elements and a remote runtime. In particular, none of this code will run on your local machine (unless you explicitly ask Colab to connect to a local runtime), and all the datasets are hosted remotely.\n",
        "\n",
        "**Introduction**\n",
        "\n",
        "This exact version of the notebook is read-only, so you'll need to copy this into your Drive (File -> Save a copy in Drive) and modify that version.\n",
        "\n",
        "There are two implementation parts to this exercise.\n",
        "\n",
        "**Linear SVM**\n",
        "\n",
        "You will start by implementing a linear SVM using subgradient descent on the primal form. Recall that we can write this as:\n",
        "\\begin{equation*}\n",
        "    w^* = \\arg\\!\\min \\frac{1}{2} \\lVert w \\rVert^2 + C \\sum_{x, y \\in S} [~ 1 -  w \\cdot x ~]_+\n",
        "\\end{equation*}\n",
        "Your task here is to implement subgradient descent to calculate an approximation to $w^*$.\n",
        "\n",
        "**Kernel SVM**\n",
        "\n",
        "Next, you're going to implement a kernel SVM and test a few kernels on some sanity checks. You will use the _dual_ formulation of the kernel SVM that's in the lecture slides.\n",
        "\n",
        "Once you express the QP for the dual kernel SVM problem in its canonical form, you will plug this into a black-box convex program solver called $\\texttt{cvxopt}$. You will find more specific instructions in the relevant cell.\n",
        "\n",
        "**Evaluation**\n",
        "\n",
        "To check that your code does the right thing, we've included a few synthetic tasks and visualizations. Your code should run pretty fast on these synthetic examples, so you can make changes and iterate quickly.\n",
        "\n",
        "Then, you will test your code on a text classification task; see the relevant cells for more details. **You should get at least 70% test accuracy on the test classification task.**\n",
        "\n",
        "**Submission**\n",
        "\n",
        "Please paste a link to your notebook in your assignment and set the sharing settings such that anyone with the link can view your notebook.\n",
        "\n",
        "**Before coding**\n",
        "\n",
        "Before you start writing the code for this assignment, you may find it helpful to first handwrite the gradient descent update step. The parameter we're learning is given by $\\alpha$, so you'll want to calculate some appropriate value of $\\nabla_\\alpha f(x)$ for some _fixed_ training example $x$.\n",
        "\n",
        "Similarly, you might find it helpful to first handwrite the QP corresponding to the dual kernel SVM problem before coding this up so that you can keep track of all the variables in the problem."
      ]
    },
    {
      "cell_type": "code",
      "source": [],
      "metadata": {
        "id": "7vC24aqueuV2"
      },
      "execution_count": null,
      "outputs": []
    },
    {
      "cell_type": "code",
      "metadata": {
        "id": "vNN6eZW5ghDm",
        "cellView": "form"
      },
      "source": [
        "#@title Imports and test code. \n",
        "#@markdown Double click here to see exactly what the code's doing.\n",
        "\n",
        "import numpy as np\n",
        "import numpy.random as npr\n",
        "\n",
        "import matplotlib.cm as cm\n",
        "import matplotlib.pyplot as plt\n",
        "%matplotlib inline\n",
        "\n",
        "from math import sqrt\n",
        "\n",
        "import csv\n",
        "import cvxopt\n",
        "\n",
        "\n",
        "def plot_decision_countour(svm, X, y, grid_size=100):\n",
        "    x_min, x_max = X[:, 0].min(), X[:, 0].max()\n",
        "    y_min, y_max = X[:, 1].min(), X[:, 1].max()\n",
        "    xx, yy = np.meshgrid(np.linspace(x_min, x_max, grid_size),\n",
        "                         np.linspace(y_min, y_max, grid_size),\n",
        "                         indexing='ij')\n",
        "    data = np.stack([xx, yy], axis=2).reshape(-1, 2)\n",
        "    pred = svm.predict(data).reshape(xx.shape)\n",
        "    plt.contourf(xx, yy, pred,\n",
        "                 cmap=cm.Paired,\n",
        "                 levels=[-0.001, 0.001],\n",
        "                 extend='both',\n",
        "                 alpha=0.8)\n",
        "    flatten = lambda m: np.array(m).reshape(-1,)\n",
        "    plt.scatter(flatten(X[:,0][y==-1]),flatten(X[:,1][y==-1]),\n",
        "                  c=flatten(y)[y==-1],cmap=cm.Paired,marker='o')\n",
        "    plt.scatter(flatten(X[:,0][y==1]),flatten(X[:,1][y==1]),\n",
        "                  c=flatten(y)[y==1],cmap=cm.Paired,marker='+')\n",
        "    \n",
        "    plt.xlim(x_min, x_max)\n",
        "    plt.ylim(y_min, y_max)\n",
        "    plt.plot()\n",
        "\n",
        "\n",
        "\n",
        "\n",
        "def test_SVM(svm, num_samples=500,linear=False):\n",
        "    \"\"\"test svm\n",
        "    \"\"\"\n",
        "    np.random.seed(783923)\n",
        "\n",
        "    X = npr.random((num_samples, 2)) * 2 - 1\n",
        "    if linear:\n",
        "      y = 2 * (X.sum(axis=1) > 0) - 1.0\n",
        "    else: \n",
        "      y = 2 * ((X ** 2).sum(axis=1) - 0.5 > 0) - 1.0\n",
        "    svm.fit(X,y)\n",
        "    \n",
        "    plot_decision_countour(svm, X, y)\n",
        "\n",
        "    from datetime import datetime\n",
        "    np.random.seed(int(round(datetime.now().timestamp())))\n",
        "\n",
        "def compute_acc(model, X, y):\n",
        "    pred = model.predict(X)\n",
        "    size = len(y)\n",
        "    num_correct = (pred == y).sum()\n",
        "    acc = num_correct / size\n",
        "    print(\"{} out of {} correct, acc {:.3f}\".format(num_correct, size, acc))"
      ],
      "execution_count": 7,
      "outputs": []
    },
    {
      "cell_type": "code",
      "metadata": {
        "id": "zNDW9Ia2ghDq"
      },
      "source": [
        "#@title Linear SVM class **(To be modified)**\n",
        "\n",
        "class LinearSVM():\n",
        "    def __init__(self,C):\n",
        "        \"\"\"initialize the svm\n",
        "        \n",
        "        \n",
        "        \"\"\"\n",
        "        self.w = None\n",
        "        self.bias = None\n",
        "        self.C = C\n",
        "\n",
        "    def fit(self, X, y,num_epochs=30,lr_sched=lambda t: 0.1/t):\n",
        "        \"\"\"Fit the model on the data\n",
        "        \n",
        "        Args:\n",
        "            X: [N x d] data matrix\n",
        "            y: [N, ] array of labels\n",
        "            num_epochs: number of passes over the training data we make\n",
        "            lr_sched: function determining how the learning rate decays across\n",
        "                      epochs\n",
        "        \n",
        "        Returns:\n",
        "            self, in case you want to build a pipeline\n",
        "        \"\"\"\n",
        "        assert np.ndim(X) == 2, 'data matrix X expected to be 2d'\n",
        "        assert np.ndim(y) == 1, 'labels expected to be 1d'\n",
        "        N, d = X.shape\n",
        "        assert N == y.shape[0], 'expect [N, d] data matrix and [N] labels'\n",
        "\n",
        "        # YOUR CODE HERE: Implement a subgradient descent\n",
        "\n",
        "        self.w = np.zeros(d)\n",
        "        self.bias = 0\n",
        "        lr = 1\n",
        "        epoch = 1\n",
        "        while epoch <= num_epochs:\n",
        "          cnt = 0\n",
        "          sum_w = np.zeros(d)\n",
        "          sum_b = 0\n",
        "          for i in range(N):\n",
        "            if y[i] * (np.dot(X[i], self.w) + self.bias) < 1:\n",
        "              sum_w -= self.C * y[i] * X[i]\n",
        "              sum_b -= self.C * y[i]\n",
        "              cnt += 1\n",
        "\n",
        "          gred_w = self.w + sum_w.T / cnt\n",
        "          self.w = self.w - lr * gred_w\n",
        "          self.bias = self.bias - lr * sum_b / cnt\n",
        "          lr = lr_sched(epoch)\n",
        "          epoch += 1\n",
        "        \n",
        "        print(\"w and bias\", self.w, self.bias)\n",
        "        print(\"training complete\")\n",
        "        return self\n",
        "\n",
        "\n",
        "    def predict(self, X, binarize=True):\n",
        "        \"\"\"make a prediction and return either the confidence margin or label\n",
        "        \n",
        "        Args:\n",
        "            X: [N, d] array of data or [d,] single data point\n",
        "            binarize: if True, then return the label, else the confidence margin\n",
        "        \n",
        "        Returns:\n",
        "            Either confidence margin or predicted label\n",
        "        \"\"\"\n",
        "\n",
        "        if self.w is None:\n",
        "            raise ValueError(\"go fit the data first\")\n",
        "        X = np.atleast_2d(X)\n",
        "        assert X.shape[1] == self.w.shape[0]\n",
        "\n",
        "        # YOUR CODE HERE:  Compute the confidence margins\n",
        "        res = np.dot(X, self.w)\n",
        "        res = res.squeeze()\n",
        "        if binarize:\n",
        "            return np.sign(res)\n",
        "        else:\n",
        "            return res\n",
        "\n",
        "    def clone(self):\n",
        "        \"\"\"construct a fresh copy of myself\n",
        "        \"\"\"\n",
        "        return LinearSVM(self.lamb, self.num_epochs)\n",
        "\n"
      ],
      "execution_count": 8,
      "outputs": []
    },
    {
      "cell_type": "code",
      "metadata": {
        "id": "M1cTXCKYghDv",
        "cellView": "form"
      },
      "source": [
        "#@title Kernel class. \n",
        "#@markdown This class contains a base implementation of several common\n",
        "#@markdown kernels. If you want to implement custom kernels, you should do that\n",
        "#@markdown here.\n",
        "\n",
        "\n",
        "class Kernel(object):\n",
        "    \"\"\"\n",
        "    A class containing all kinds of kernels.\n",
        "    Note: the kernel should work for both input (Matrix, vector) and (vector, vector)\n",
        "    \"\"\"\n",
        "    @staticmethod\n",
        "    def linear():\n",
        "        def f(x, y):\n",
        "            return np.dot(x, y)\n",
        "        return f\n",
        "\n",
        "    @staticmethod\n",
        "    def gaussian(sigma):\n",
        "        def f(x, y):\n",
        "            exponent = - (1/sigma**2) * np.linalg.norm((x-y).transpose(), 2, 0) ** 2\n",
        "            return np.exp(exponent)\n",
        "        return f\n",
        "\n",
        "    @staticmethod\n",
        "    def _poly(dimension, offset):\n",
        "        def f(x, y):\n",
        "            return (offset + np.dot(x, y)) ** dimension\n",
        "        return f\n",
        "\n",
        "    @staticmethod\n",
        "    def inhomogenous_polynomial(dimension):\n",
        "        return Kernel._poly(dimension=dimension, offset=1.0)\n",
        "\n",
        "    @staticmethod\n",
        "    def homogenous_polynomial(dimension):\n",
        "        return Kernel._poly(dimension=dimension, offset=0.0)\n",
        "\n",
        "    @staticmethod\n",
        "    def hyperbolic_tangent(kappa, c):\n",
        "        def f(x, y):\n",
        "            return np.tanh(kappa * np.dot(x, y) + c)\n",
        "        return f"
      ],
      "execution_count": 2,
      "outputs": []
    },
    {
      "cell_type": "code",
      "metadata": {
        "id": "eSlLz8W7ghDw",
        "cellView": "form"
      },
      "source": [
        "#@title Kernel SVM class **(To be modified)**\n",
        "#@markdown In this class, you will fill in the missing functions to\n",
        "#@markdown complete the implementation of the Kernel SVM. We will set up the QP\n",
        "#@markdown optimization and plug it into cvxopt, a black-box convex optimization\n",
        "#@markdown library for Python.\n",
        "\n",
        "class KernelSVM(object):\n",
        "    def __init__(self, kernel, C):\n",
        "        \"\"\"\n",
        "        Build a SVM given kernel function and C\n",
        "\n",
        "        Parameters\n",
        "        ----------\n",
        "        kernel : function\n",
        "            a function takes input (Matrix, vector) or (vector, vector)\n",
        "        C : a scalar\n",
        "            balance term\n",
        "\n",
        "        Returns\n",
        "        -------\n",
        "        \"\"\"\n",
        "        self._kernel = kernel\n",
        "        self.C = C\n",
        "\n",
        "    def fit(self, X, y):\n",
        "        \"\"\"\n",
        "        Fit the model given data X and ground truth label y\n",
        "\n",
        "        Parameters\n",
        "        ----------\n",
        "        X : 2D array\n",
        "            N x d data matrix (row per example)\n",
        "        y : 1D array\n",
        "            class label\n",
        "\n",
        "        Returns\n",
        "        -------\n",
        "        \"\"\"\n",
        "        # Solve the QP problem to get the multipliers\n",
        "        lagrange_multipliers = self._compute_multipliers(X, y)\n",
        "        # Get all the support vectors, support weights and bias\n",
        "        self._construct_predictor(X, y, lagrange_multipliers)\n",
        "    \n",
        "    def predict(self, X):\n",
        "        \"\"\"\n",
        "        Predict the label given data X\n",
        "\n",
        "        Parameters\n",
        "        ----------\n",
        "        X : 2D array\n",
        "            N x d data matrix (row per example)\n",
        "\n",
        "        Returns\n",
        "        -------\n",
        "        y : 1D array\n",
        "            predicted label\n",
        "        \"\"\"\n",
        "        result = np.full(X.shape[0], self._bias) # note: intializing scores with b\n",
        "        for z_i, x_i, y_i in zip(self._weights,\n",
        "                                 self._support_vectors,\n",
        "                                 self._support_vector_labels):\n",
        "            result += z_i * y_i * self._kernel(X, x_i) # the result is \\sum_i alpha_i*y_i*x_i+b\n",
        "        return np.sign(result)\n",
        "\n",
        "    def _kernel_matrix(self, X):\n",
        "        \"\"\"\n",
        "        Get the kernel matrix.\n",
        "\n",
        "        Parameters\n",
        "        ----------\n",
        "        X : 2D array\n",
        "            N x d data matrix (row per example)\n",
        "\n",
        "        Returns\n",
        "        -------\n",
        "        K : 2D array\n",
        "            N x N kernel matrix, where K[i][j] = inner_product(phi(i), phi(j))\n",
        "        \"\"\"\n",
        "        # YOUR CODE HERE: Implement\n",
        "        N = X.shape[0]\n",
        "        ker_matrix = np.zeros((N, N))\n",
        "        for i in range(N):\n",
        "          for j in range(N):\n",
        "            ker_matrix[i][j] = self._kernel(X[i], X[j])\n",
        "        return ker_matrix\n",
        "\n",
        "    def _construct_predictor(self, X, y, lagrange_multipliers):\n",
        "        \"\"\"\n",
        "        Given the data, label and the multipliers, extract the support vectors and calculate the bias\n",
        "\n",
        "        Parameters\n",
        "        ----------\n",
        "        X : 2D array\n",
        "            N x d data matrix (row per example)\n",
        "        y : 1D array\n",
        "            class label\n",
        "        lagrange_multipliers: 1D array\n",
        "            the solution of lagrange_multiplier\n",
        "\n",
        "        Returns\n",
        "        -------\n",
        "        \"\"\"\n",
        "        support_vector_indices = \\\n",
        "            lagrange_multipliers > 1e-5\n",
        "            \n",
        "        print(\"SV number: \", np.sum(support_vector_indices))\n",
        "\n",
        "        support_multipliers = lagrange_multipliers[support_vector_indices]\n",
        "        support_vectors = X[support_vector_indices]\n",
        "        support_vector_labels = y[support_vector_indices]\n",
        "\n",
        "        \"\"\"\n",
        "        Get the bias term\n",
        "        \"\"\"\n",
        "        # YOUR CODE HERE: Implement \n",
        "\n",
        "        bias = \n",
        "\n",
        "        self._bias=bias\n",
        "        self._weights=support_multipliers\n",
        "        self._support_vectors=support_vectors\n",
        "        self._support_vector_labels=support_vector_labels\n",
        "\n",
        "\n",
        "    def _compute_multipliers(self, X, y):\n",
        "        \"\"\"\n",
        "        Given the data, label, solve the QP program to get lagrange multiplier.\n",
        "\n",
        "        Parameters\n",
        "        ----------\n",
        "        X : 2D array\n",
        "            N x d data matrix (row per example)\n",
        "        y : 1D array\n",
        "            class label\n",
        "\n",
        "        Returns\n",
        "        lagrange_multipliers: 1D array\n",
        "        -------\n",
        "        \"\"\"\n",
        "        N, d = X.shape\n",
        "\n",
        "        K = self._kernel_matrix(X)\n",
        "        \"\"\"\n",
        "        The standard QP solver formulation:\n",
        "        min 1/2 alpha^T H alpha + f^T alpha\n",
        "        s.t.\n",
        "        A * alpha \\coneleq a (A is former G)\n",
        "        B * alpha = b\n",
        "        \"\"\"\n",
        "        # YOUR CODE HERE: implement. Specifically, define the H, f, A, a, B, b arguments\n",
        "        # as indicated above.\n",
        "\n",
        "        solution = cvxopt.solvers.qp(H, f, A, a, B, b)\n",
        "\n",
        "        # Lagrange multipliers\n",
        "        return np.ravel(solution['x'])\n",
        "\n",
        "\n"
      ],
      "execution_count": null,
      "outputs": []
    },
    {
      "cell_type": "code",
      "metadata": {
        "id": "XKPHo4ADghDs",
        "cellView": "form",
        "colab": {
          "base_uri": "https://localhost:8080/",
          "height": 301
        },
        "outputId": "788a4aea-0614-49e6-9c19-b876f6023977"
      },
      "source": [
        "#@title Linear SVM Sanity Check\n",
        "\n",
        "svm = LinearSVM(C=10)\n",
        "test_SVM(svm,linear=True)\n"
      ],
      "execution_count": 9,
      "outputs": [
        {
          "output_type": "stream",
          "name": "stdout",
          "text": [
            "w and bias [2.40882583 2.55864775] 0.006673979777537261\n",
            "training complete\n"
          ]
        },
        {
          "output_type": "display_data",
          "data": {
            "text/plain": [
              "<Figure size 432x288 with 1 Axes>"
            ],
            "image/png": "[encoded data removed]"
          },
          "metadata": {
            "needs_background": "light"
          }
        }
      ]
    },
    {
      "cell_type": "code",
      "metadata": {
        "id": "ZwABjvmx5YU0",
        "cellView": "form"
      },
      "source": [
        "#@title Kernel (Linear) SVM Sanity Check\n",
        "\n",
        "svm = KernelSVM(Kernel.linear(), C=50)\n",
        "test_SVM(svm,linear=True)"
      ],
      "execution_count": null,
      "outputs": []
    },
    {
      "cell_type": "code",
      "metadata": {
        "id": "VwK1yjlMV7IM"
      },
      "source": [
        "svm.print_bias()"
      ],
      "execution_count": null,
      "outputs": []
    },
    {
      "cell_type": "code",
      "metadata": {
        "id": "aOt3BNrrghDy",
        "cellView": "form"
      },
      "source": [
        "#@title Kernel (RBF) SVM Sanity Check\n",
        "#feel free to play with sigma and C\n",
        "svm = KernelSVM(Kernel.gaussian(sigma=0.5), C=10)\n",
        "test_SVM(svm,linear=False)"
      ],
      "execution_count": null,
      "outputs": []
    },
    {
      "cell_type": "markdown",
      "metadata": {
        "id": "ugL7eaqIJ6Tc"
      },
      "source": [
        "In the tests above, you should have obtained images that look roughly like this:\n",
        "\n",
        "\n",
        "Linear SVM\n",
        "\n",
        "![linear SVM result](https://drive.google.com/uc?id=1XaRAcsIY1UoRq8xnLY45u01CkzGLAKuB)\n",
        "\n",
        "Linear kernel SVM\n",
        "\n",
        "![linear kernel result](https://drive.google.com/uc?id=1OsuPOEMjbap5M7O2fTWymNwJu7DD9fJa) \n",
        "\n",
        "RBF kernel SVM\n",
        "\n",
        "![RBF kernel result](https://drive.google.com/uc?id=1tbH9STSe7p3dOxt6niJhYI17_Id7HGBY)\n",
        "\n"
      ]
    },
    {
      "cell_type": "markdown",
      "metadata": {
        "id": "rvFRZS1SghD1"
      },
      "source": [
        "#### Now that our SVM is working on the toy dataset, let's do a simple sentiment analysis on [tweets on US airline service quality](https://www.kaggle.com/crowdflower/twitter-airline-sentiment/version/2). (WARNING: expletives unfiltered)\n",
        "---\n",
        "- As shown below, our data comes in the form of a csv table. The columns most relevant to our task are 'text' and 'airline_sentiment'.\n",
        "- Data must be represented as a [N x d] matrix, but what we have on our hands is unstructured text.\n",
        "- The simplest solution to transform an airline review into a vector is [bag of words](https://en.wikipedia.org/wiki/Bag-of-words_model). We maintain a global vocabulary of word patterns gathered from our corpus, with single words such as \"great\", \"horrible\", and optionally consecutive words (N-grams) like \"friendly service\", \"luggage lost\". Suppose we have already collected a total of 10000 such patterns, to transform a sentence into a 10000-dimensional vector, we simply scan it and look for the patterns that appear and set their correponding entries to 1 and leave the rest at 0. What we end up with is a sparse vector that can be fed into SVMs.\n",
        "- For this exercise we use the basic text processing routines in nltk and sklearn\n",
        "- Our data is not balanced, with siginificant more negatives than neutral + positives. Therefore we group neutral and positive into one category and the final ratio of non-negative vs negative is about 1:2. This is consistent across train, val and test"
      ]
    },
    {
      "cell_type": "code",
      "metadata": {
        "id": "QUmn6ej2ghD2",
        "colab": {
          "base_uri": "https://localhost:8080/"
        },
        "outputId": "5c5d3eb5-dd8e-499b-bf71-9f70d7acf2d9"
      },
      "source": [
        "#@markdown Here, we'll set up the dataset. To show you that this is doing\n",
        "#@markdown something useful, we'll print the first three entries of the\n",
        "#@markdown training set.\n",
        "\n",
        "import os.path as osp\n",
        "import pandas as pd\n",
        "import re, nltk\n",
        "from nltk.stem import WordNetLemmatizer\n",
        "from nltk.corpus import stopwords\n",
        "\n",
        "nltk.download('stopwords')\n",
        "nltk.download('punkt')\n",
        "nltk.download('wordnet')\n",
        "nltk.download('omw-1.4')\n",
        "\n",
        "from sklearn.feature_extraction.text import CountVectorizer\n",
        "\n",
        "train_data  = \"https://ttic.edu/gregory/ttic31020/data/sentiment/tweets/train.csv\"\n",
        "val_data =  \"https://ttic.edu/gregory/ttic31020/data/sentiment/tweets/val.csv\"\n",
        "test_data = \"https://ttic.edu/gregory/ttic31020/data/sentiment/tweets/test_release.csv\"\n",
        "\n",
        "train, val, test = \\\n",
        "    pd.read_csv(train_data), \\\n",
        "    pd.read_csv(val_data), \\\n",
        "    pd.read_csv(test_data)\n"
      ],
      "execution_count": 1,
      "outputs": [
        {
          "output_type": "stream",
          "name": "stderr",
          "text": [
            "[nltk_data] Downloading package stopwords to /root/nltk_data...\n",
            "[nltk_data]   Unzipping corpora/stopwords.zip.\n",
            "[nltk_data] Downloading package punkt to /root/nltk_data...\n",
            "[nltk_data]   Unzipping tokenizers/punkt.zip.\n",
            "[nltk_data] Downloading package wordnet to /root/nltk_data...\n",
            "[nltk_data] Downloading package omw-1.4 to /root/nltk_data...\n"
          ]
        }
      ]
    },
    {
      "cell_type": "code",
      "source": [
        "train.head(3)"
      ],
      "metadata": {
        "id": "Af3yLutpf9RI",
        "colab": {
          "base_uri": "https://localhost:8080/",
          "height": 381
        },
        "outputId": "d5319caf-ec4b-4c75-91df-700431353312"
      },
      "execution_count": 3,
      "outputs": [
        {
          "output_type": "execute_result",
          "data": {
            "text/plain": [
              "   Unnamed: 0            tweet_id airline_sentiment  \\\n",
              "0        3816  568103618500530176           neutral   \n",
              "1       10306  569379979055796224          negative   \n",
              "2         292  568840724700995584          negative   \n",
              "\n",
              "   airline_sentiment_confidence           negativereason  \\\n",
              "0                           1.0                      NaN   \n",
              "1                           1.0   Customer Service Issue   \n",
              "2                           1.0  Flight Booking Problems   \n",
              "\n",
              "   negativereason_confidence         airline airline_sentiment_gold  \\\n",
              "0                        NaN          United                    NaN   \n",
              "1                     0.6465      US Airways                    NaN   \n",
              "2                     0.3895  Virgin America                    NaN   \n",
              "\n",
              "            name negativereason_gold  retweet_count  \\\n",
              "0     willyvideo                 NaN              0   \n",
              "1      PhilHagen                 NaN              1   \n",
              "2  notthatnathan                 NaN              0   \n",
              "\n",
              "                                                text  \\\n",
              "0  @united #sfo #ClearVision #TV4U @ United Termi...   \n",
              "1  @USAirways yes, i am as well.  **FIVE** HOURS ...   \n",
              "2  @VirginAmerica Funny story, your website is br...   \n",
              "\n",
              "                    tweet_coord              tweet_created   tweet_location  \\\n",
              "0  [37.62006843, -122.38822083]  2015-02-18 09:43:52 -0800              NaN   \n",
              "1                           NaN  2015-02-21 22:15:40 -0800   Lewes, DE, USA   \n",
              "2                           NaN  2015-02-20 10:32:51 -0800  Portland, Maine   \n",
              "\n",
              "                user_timezone  \n",
              "0  Pacific Time (US & Canada)  \n",
              "1  Eastern Time (US & Canada)  \n",
              "2  Eastern Time (US & Canada)  "
            ],
            "text/html": [
              "\n",
              "  <div id=\"df-2c32bbaf-b984-4f84-b97e-a7b6286d5bc2\">\n",
              "    <div class=\"colab-df-container\">\n",
              "      <div>\n",
              "<style scoped>\n",
              "    .dataframe tbody tr th:only-of-type {\n",
              "        vertical-align: middle;\n",
              "    }\n",
              "\n",
              "    .dataframe tbody tr th {\n",
              "        vertical-align: top;\n",
              "    }\n",
              "\n",
              "    .dataframe thead th {\n",
              "        text-align: right;\n",
              "    }\n",
              "</style>\n",
              "<table border=\"1\" class=\"dataframe\">\n",
              "  <thead>\n",
              "    <tr style=\"text-align: right;\">\n",
              "      <th></th>\n",
              "      <th>Unnamed: 0</th>\n",
              "      <th>tweet_id</th>\n",
              "      <th>airline_sentiment</th>\n",
              "      <th>airline_sentiment_confidence</th>\n",
              "      <th>negativereason</th>\n",
              "      <th>negativereason_confidence</th>\n",
              "      <th>airline</th>\n",
              "      <th>airline_sentiment_gold</th>\n",
              "      <th>name</th>\n",
              "      <th>negativereason_gold</th>\n",
              "      <th>retweet_count</th>\n",
              "      <th>text</th>\n",
              "      <th>tweet_coord</th>\n",
              "      <th>tweet_created</th>\n",
              "      <th>tweet_location</th>\n",
              "      <th>user_timezone</th>\n",
              "    </tr>\n",
              "  </thead>\n",
              "  <tbody>\n",
              "    <tr>\n",
              "      <th>0</th>\n",
              "      <td>3816</td>\n",
              "      <td>568103618500530176</td>\n",
              "      <td>neutral</td>\n",
              "      <td>1.0</td>\n",
              "      <td>NaN</td>\n",
              "      <td>NaN</td>\n",
              "      <td>United</td>\n",
              "      <td>NaN</td>\n",
              "      <td>willyvideo</td>\n",
              "      <td>NaN</td>\n",
              "      <td>0</td>\n",
              "      <td>@united #sfo #ClearVision #TV4U @ United Termi...</td>\n",
              "      <td>[37.62006843, -122.38822083]</td>\n",
              "      <td>2015-02-18 09:43:52 -0800</td>\n",
              "      <td>NaN</td>\n",
              "      <td>Pacific Time (US &amp; Canada)</td>\n",
              "    </tr>\n",
              "    <tr>\n",
              "      <th>1</th>\n",
              "      <td>10306</td>\n",
              "      <td>569379979055796224</td>\n",
              "      <td>negative</td>\n",
              "      <td>1.0</td>\n",
              "      <td>Customer Service Issue</td>\n",
              "      <td>0.6465</td>\n",
              "      <td>US Airways</td>\n",
              "      <td>NaN</td>\n",
              "      <td>PhilHagen</td>\n",
              "      <td>NaN</td>\n",
              "      <td>1</td>\n",
              "      <td>@USAirways yes, i am as well.  **FIVE** HOURS ...</td>\n",
              "      <td>NaN</td>\n",
              "      <td>2015-02-21 22:15:40 -0800</td>\n",
              "      <td>Lewes, DE, USA</td>\n",
              "      <td>Eastern Time (US &amp; Canada)</td>\n",
              "    </tr>\n",
              "    <tr>\n",
              "      <th>2</th>\n",
              "      <td>292</td>\n",
              "      <td>568840724700995584</td>\n",
              "      <td>negative</td>\n",
              "      <td>1.0</td>\n",
              "      <td>Flight Booking Problems</td>\n",
              "      <td>0.3895</td>\n",
              "      <td>Virgin America</td>\n",
              "      <td>NaN</td>\n",
              "      <td>notthatnathan</td>\n",
              "      <td>NaN</td>\n",
              "      <td>0</td>\n",
              "      <td>@VirginAmerica Funny story, your website is br...</td>\n",
              "      <td>NaN</td>\n",
              "      <td>2015-02-20 10:32:51 -0800</td>\n",
              "      <td>Portland, Maine</td>\n",
              "      <td>Eastern Time (US &amp; Canada)</td>\n",
              "    </tr>\n",
              "  </tbody>\n",
              "</table>\n",
              "</div>\n",
              "      <button class=\"colab-df-convert\" onclick=\"convertToInteractive('df-2c32bbaf-b984-4f84-b97e-a7b6286d5bc2')\"\n",
              "              title=\"Convert this dataframe to an interactive table.\"\n",
              "              style=\"display:none;\">\n",
              "        \n",
              "  <svg xmlns=\"http://www.w3.org/2000/svg\" height=\"24px\"viewBox=\"0 0 24 24\"\n",
              "       width=\"24px\">\n",
              "    <path d=\"M0 0h24v24H0V0z\" fill=\"none\"/>\n",
              "    <path d=\"M18.56 5.44l.94 2.06.94-2.06 2.06-.94-2.06-.94-.94-2.06-.94 2.06-2.06.94zm-11 1L8.5 8.5l.94-2.06 2.06-.94-2.06-.94L8.5 2.5l-.94 2.06-2.06.94zm10 10l.94 2.06.94-2.06 2.06-.94-2.06-.94-.94-2.06-.94 2.06-2.06.94z\"/><path d=\"M17.41 7.96l-1.37-1.37c-.4-.4-.92-.59-1.43-.59-.52 0-1.04.2-1.43.59L10.3 9.45l-7.72 7.72c-.78.78-.78 2.05 0 2.83L4 21.41c.39.39.9.59 1.41.59.51 0 1.02-.2 1.41-.59l7.78-7.78 2.81-2.81c.8-.78.8-2.07 0-2.86zM5.41 20L4 18.59l7.72-7.72 1.47 1.35L5.41 20z\"/>\n",
              "  </svg>\n",
              "      </button>\n",
              "      \n",
              "  <style>\n",
              "    .colab-df-container {\n",
              "      display:flex;\n",
              "      flex-wrap:wrap;\n",
              "      gap: 12px;\n",
              "    }\n",
              "\n",
              "    .colab-df-convert {\n",
              "      background-color: #E8F0FE;\n",
              "      border: none;\n",
              "      border-radius: 50%;\n",
              "      cursor: pointer;\n",
              "      display: none;\n",
              "      fill: #1967D2;\n",
              "      height: 32px;\n",
              "      padding: 0 0 0 0;\n",
              "      width: 32px;\n",
              "    }\n",
              "\n",
              "    .colab-df-convert:hover {\n",
              "      background-color: #E2EBFA;\n",
              "      box-shadow: 0px 1px 2px rgba(60, 64, 67, 0.3), 0px 1px 3px 1px rgba(60, 64, 67, 0.15);\n",
              "      fill: #174EA6;\n",
              "    }\n",
              "\n",
              "    [theme=dark] .colab-df-convert {\n",
              "      background-color: #3B4455;\n",
              "      fill: #D2E3FC;\n",
              "    }\n",
              "\n",
              "    [theme=dark] .colab-df-convert:hover {\n",
              "      background-color: #434B5C;\n",
              "      box-shadow: 0px 1px 3px 1px rgba(0, 0, 0, 0.15);\n",
              "      filter: drop-shadow(0px 1px 2px rgba(0, 0, 0, 0.3));\n",
              "      fill: #FFFFFF;\n",
              "    }\n",
              "  </style>\n",
              "\n",
              "      <script>\n",
              "        const buttonEl =\n",
              "          document.querySelector('#df-2c32bbaf-b984-4f84-b97e-a7b6286d5bc2 button.colab-df-convert');\n",
              "        buttonEl.style.display =\n",
              "          google.colab.kernel.accessAllowed ? 'block' : 'none';\n",
              "\n",
              "        async function convertToInteractive(key) {\n",
              "          const element = document.querySelector('#df-2c32bbaf-b984-4f84-b97e-a7b6286d5bc2');\n",
              "          const dataTable =\n",
              "            await google.colab.kernel.invokeFunction('convertToInteractive',\n",
              "                                                     [key], {});\n",
              "          if (!dataTable) return;\n",
              "\n",
              "          const docLinkHtml = 'Like what you see? Visit the ' +\n",
              "            '<a target=\"_blank\" href=https://colab.research.google.com/notebooks/data_table.ipynb>data table notebook</a>'\n",
              "            + ' to learn more about interactive tables.';\n",
              "          element.innerHTML = '';\n",
              "          dataTable['output_type'] = 'display_data';\n",
              "          await google.colab.output.renderOutput(dataTable, element);\n",
              "          const docLink = document.createElement('div');\n",
              "          docLink.innerHTML = docLinkHtml;\n",
              "          element.appendChild(docLink);\n",
              "        }\n",
              "      </script>\n",
              "    </div>\n",
              "  </div>\n",
              "  "
            ]
          },
          "metadata": {},
          "execution_count": 3
        }
      ]
    },
    {
      "cell_type": "code",
      "source": [
        "train.airline_sentiment.value_counts()"
      ],
      "metadata": {
        "id": "TRQu2zlF7BAR",
        "colab": {
          "base_uri": "https://localhost:8080/"
        },
        "outputId": "a424c8d3-a53d-4d21-e56a-2c4372805383"
      },
      "execution_count": 4,
      "outputs": [
        {
          "output_type": "execute_result",
          "data": {
            "text/plain": [
              "negative    5905\n",
              "neutral     1804\n",
              "positive    1442\n",
              "Name: airline_sentiment, dtype: int64"
            ]
          },
          "metadata": {},
          "execution_count": 4
        }
      ]
    },
    {
      "cell_type": "code",
      "metadata": {
        "id": "E1Zp-mi8ghEB",
        "colab": {
          "base_uri": "https://localhost:8080/"
        },
        "outputId": "ef423ddd-d378-4ae3-d739-cc59a5862ecd"
      },
      "source": [
        "#@title Vectorizing the vocabulary\n",
        "#@markdown Here, we build the vocabulary and vector representations for each\n",
        "#@markdown word. You may find it useful to modify parts of this later, but it's\n",
        "#@markdown not strictly necessary. We then sample some of the learned\n",
        "#@markdown vocabulary.\n",
        "\n",
        "# check these out \n",
        "stop_words = set(stopwords.words('english'))\n",
        "wordnet_lemmatizer = WordNetLemmatizer()\n",
        "def tokenize_normalize(tweet):\n",
        "    only_letters = re.sub(\"[^a-zA-Z]\", \" \", tweet)\n",
        "    tokens = nltk.word_tokenize(only_letters)[2:]\n",
        "    lower_case = [l.lower() for l in tokens]\n",
        "    filtered_result = list(filter(lambda l: l not in stop_words, lower_case))\n",
        "    lemmas = [wordnet_lemmatizer.lemmatize(t) for t in filtered_result]\n",
        "    return lemmas\n",
        "\n",
        "# the sklearn vectorizer scans our corpus, build the vocabulary, and changes text into vectors\n",
        "vectorizer = CountVectorizer(\n",
        "    strip_accents='unicode', \n",
        "    lowercase=True, \n",
        "    tokenizer=tokenize_normalize,\n",
        "    ngram_range=(1,1),  # you may want to try 2 grams. The vocab will get very large though,\n",
        "    min_df=100,  # this parameter deletes words that occur in less than min_df\n",
        "                # documents. decreasing this will increase the vocabulary size,\n",
        "                # but may also increase the runtime.\n",
        ")\n",
        "# first learn the vocabulary\n",
        "vectorizer.fit(pd.concat([train, val]).text)\n",
        "\n",
        "\n",
        "print( list(vectorizer.vocabulary_.items())[:10] )\n",
        "print(\"\\n vocabulary size {}\".format(len(vectorizer.vocabulary_)))"
      ],
      "execution_count": 5,
      "outputs": [
        {
          "output_type": "stream",
          "name": "stderr",
          "text": [
            "/usr/local/lib/python3.7/dist-packages/sklearn/feature_extraction/text.py:517: UserWarning: The parameter 'token_pattern' will not be used since 'tokenizer' is not None'\n",
            "  \"The parameter 'token_pattern' will not be used\"\n"
          ]
        },
        {
          "output_type": "stream",
          "name": "stdout",
          "text": [
            "[('u', 153), ('united', 155), ('airport', 4), ('http', 71), ('co', 29), ('hour', 69), ('hold', 65), ('please', 114), ('tell', 139), ('trying', 151)]\n",
            "\n",
            " vocabulary size 172\n"
          ]
        }
      ]
    },
    {
      "cell_type": "code",
      "metadata": {
        "id": "ElkjTodLghEG",
        "colab": {
          "base_uri": "https://localhost:8080/"
        },
        "outputId": "85722441-bfdc-4857-90a3-488e10f280ba"
      },
      "source": [
        "#@title Setting up the training set\n",
        "#@markdown Now, we will prepare the training data so that we can call our\n",
        "#@markdown SVM as a black-box.\n",
        "\n",
        "X = {}\n",
        "y = {}\n",
        "X['train'] = vectorizer.transform(train.text).toarray()\n",
        "X['val'] = vectorizer.transform(val.text).toarray()\n",
        "X['test'] = vectorizer.transform(test.text).toarray()\n",
        "\n",
        "# note that our data is 10250 dimensional. \n",
        "# This is a little daunting for laptops and coming up with a manageable vector\n",
        "# representation is a major topic in Natural Language Processing.\n",
        "print(X['train'].shape)\n",
        "\n",
        "# convert the word labels of 'positive', 'neutral', 'negative' into integer labels\n",
        "# note that positive and neural belong to one category, labelled as 1, while negative stands alone as the other\n",
        "for name, dataframe in zip(['train', 'val'], [train, val]):\n",
        "    sentiments_in_words = dataframe['airline_sentiment'].tolist()\n",
        "    int_lbls = np.array( list(map(lambda x: -1 if x == 'negative' else 1, sentiments_in_words)), dtype=np.int32 )\n",
        "    y[name] = int_lbls"
      ],
      "execution_count": 18,
      "outputs": [
        {
          "output_type": "stream",
          "name": "stdout",
          "text": [
            "(9151, 172)\n"
          ]
        }
      ]
    },
    {
      "cell_type": "code",
      "source": [
        "print(X['train'].shape)\n",
        "print(X['val'].shape)\n",
        "print(X['test'].shape)"
      ],
      "metadata": {
        "id": "AM18QAe3wG1w",
        "colab": {
          "base_uri": "https://localhost:8080/"
        },
        "outputId": "e3c6d0ea-eadf-4cc2-99e4-1b42c09e3b77"
      },
      "execution_count": 20,
      "outputs": [
        {
          "output_type": "stream",
          "name": "stdout",
          "text": [
            "(9151, 172)\n",
            "(2000, 172)\n",
            "(2500, 172)\n"
          ]
        }
      ]
    },
    {
      "cell_type": "markdown",
      "source": [
        "- Try to come up with a better text feature representation. We threw out all the emojis. >< what a waste\n",
        "- Play around with different parameter settings and compute the accuracy\n",
        "- Given the high feature dimensionality of our primitive text processing, we do not recommend using kernel SVM here. It could take a long time to train. If you reduce the feature dimensionality, then it's a different story"
      ],
      "metadata": {
        "id": "ww5_kRLLwHPv"
      }
    },
    {
      "cell_type": "code",
      "metadata": {
        "id": "536A07IYghEJ"
      },
      "source": [
        "#@title Linear SVM on the airline dataset **(To be modified)**\n",
        "\n",
        "#YOUR CODE HERE\n",
        "## - Instatiate linear svm, fit it to data, play around with the hyperparameters, and do the following\n",
        "## - Compute the train accuracy\n",
        "## - Compute the validation accuracy\n",
        "\n",
        "svm = LinearSVM(10)\n",
        "svm.fit\n"
      ],
      "execution_count": null,
      "outputs": []
    },
    {
      "cell_type": "markdown",
      "source": [
        "**Report the accuracies and the hyperparameters**"
      ],
      "metadata": {
        "id": "ViEpHTuCvy9r"
      }
    },
    {
      "cell_type": "code",
      "metadata": {
        "id": "d1VkbuDr5ePe"
      },
      "source": [
        "#@title Kernel SVM with linear kernel on the airline dataset **(To be modified)**\n",
        "#@markdown This could take a while to run.\n",
        "\n",
        "print(X['train'].shape)\n",
        "\n",
        "#YOUR CODE HERE\n",
        "## - Instatiate kernel svm with linear kernel, fit it to data, play around with the hyperparameters, and do the following\n",
        "## - Compute the train accuracy\n",
        "## - Compute the validation accuracy\n"
      ],
      "execution_count": null,
      "outputs": []
    },
    {
      "cell_type": "markdown",
      "source": [
        "**Report the accuracies and the hyperparameters**"
      ],
      "metadata": {
        "id": "_NkuSrYiv8Ob"
      }
    },
    {
      "cell_type": "code",
      "metadata": {
        "id": "k2u8o5Y5HAr6"
      },
      "source": [
        "#@title Kernel SVM with RBF kernel on the airline dataset **(To be modified)**\n",
        "#@markdown This could take a while to run.\n",
        "\n",
        "# sigma=5,C=20: ~78% val acc\n",
        "\n",
        "print(X['train'].shape)"
      ],
      "execution_count": null,
      "outputs": []
    },
    {
      "cell_type": "code",
      "source": [
        "#YOUR CODE HERE\n",
        "## - Instatiate kernel svm with RBF kernel, fit it to data, play around with the hyperparameters, and do the following\n",
        "## - Compute the train accuracy\n",
        "## - Compute the validation accuracy\n"
      ],
      "metadata": {
        "id": "tW7N79BtrR0Y"
      },
      "execution_count": null,
      "outputs": []
    },
    {
      "cell_type": "markdown",
      "source": [
        "**Report the accuracies and the hyperparameters**"
      ],
      "metadata": {
        "id": "QlbnIGa4v-C6"
      }
    },
    {
      "cell_type": "code",
      "source": [],
      "metadata": {
        "id": "G4XaahEprrAz"
      },
      "execution_count": null,
      "outputs": []
    },
    {
      "cell_type": "code",
      "source": [],
      "metadata": {
        "id": "V3CgQgijrq65"
      },
      "execution_count": null,
      "outputs": []
    }
  ]
}