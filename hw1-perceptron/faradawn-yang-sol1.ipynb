{
 "cells": [
  {
   "cell_type": "markdown",
   "metadata": {},
   "source": [
    "# PSet1 Coding Problems"
   ]
  },
  {
   "cell_type": "code",
   "execution_count": 1,
   "metadata": {},
   "outputs": [],
   "source": [
    "import matplotlib.pyplot as plt\n",
    "%matplotlib inline\n",
    "# ^^ Predefined ‘magic function’ telling Jupyter to display images inline (rather than pop up a separate window)\n",
    "import matplotlib.image as mimg\n",
    "# ^^ package to help us read in images\n",
    "import numpy as np\n",
    "import random\n",
    "import os"
   ]
  },
  {
   "cell_type": "markdown",
   "metadata": {},
   "source": [
    "## Provided functions"
   ]
  },
  {
   "cell_type": "markdown",
   "metadata": {},
   "source": [
    "FashionMNIST contains 10 classes, labeled as 0,1,2,...,9 in the dataset. Below is the mapping between numeric labels and their actual classes"
   ]
  },
  {
   "cell_type": "code",
   "execution_count": 2,
   "metadata": {},
   "outputs": [],
   "source": [
    "classes_dict={0:'T-shirt/top',\n",
    "              1:'Trouser',\n",
    "              2:'Pullover',\n",
    "              3:'Dress',\n",
    "              4:'Coat',\n",
    "              5:'Sandal',\n",
    "              6:'Shirt',\n",
    "              7:'Sneaker',\n",
    "              8:'Bag',\n",
    "              9:'Ankle boot'}"
   ]
  },
  {
   "cell_type": "code",
   "execution_count": 3,
   "metadata": {},
   "outputs": [],
   "source": [
    "def makeDataBase(basename,partition='train',N=None, shuffle=False,normalize=True):\n",
    "    '''\n",
    "    This function will create one database that will contain images with their lables\n",
    "    The data are supposed to be in the paths consisting of\n",
    "     <basename> / <partition> / <category> / <category>-<index>.jpg\n",
    "     e.g., FashionMNIST/val/4/4-37.jpg\n",
    "    Inputs:\n",
    "        basename (str)  : name of the folder containing all the data. It should be \"FashionMNIST\"\n",
    "        partition (str) : \"train\" or \"val\" or \"test\"\n",
    "        N (int)         : number of examples for each category; when N=None, all samples will be loaded\n",
    "        shuffle (bool)  : boolean value; if False, samples from category 0 will be returned first and samples from category 9 last\n",
    "                          if True, samples will be randomly shuffled\n",
    "        normalize (bool): boolean value; if True, samples are normalized to [-1,1]\n",
    "    Outputs:\n",
    "        database (list) : list of tuples (x,y). x is image data. y is numeric label of x \n",
    "        \n",
    "    '''\n",
    "    database=[]\n",
    "    for label in range(10):\n",
    "        n = len(os.listdir(os.path.join(basename,partition,str(label)))) if N is None else N\n",
    "        for i in range(n):          \n",
    "            imageName=os.path.join(basename,partition,str(label),str(label)+'-'+str(i)+'.jpg')\n",
    "            imageData=mimg.imread(imageName)\n",
    "            imageData = np.float32(imageData) if not normalize else np.float32(imageData)/255*2-1\n",
    "            database.append((imageData,label))\n",
    "    if shuffle:\n",
    "        random.shuffle(database)\n",
    "    return database\n",
    "\n"
   ]
  },
  {
   "cell_type": "code",
   "execution_count": 4,
   "metadata": {},
   "outputs": [],
   "source": [
    "def list2ndarray(dataset):\n",
    "    '''\n",
    "    This function will take the output from makeDataBase() and return two numpy arrays: X and y\n",
    "    Inputs:\n",
    "        dataset (list): list of (sample, label) pairs\n",
    "    Outputs:\n",
    "        X (array)     : a 2D numpy array with size (N,D). N is the length of dataset, D is 28*28. \n",
    "                        Each row of X is an image sample flattened\n",
    "        y (array)     : a numpy array with size (N,). y contains numeric labels of corresponding samples\n",
    "    '''\n",
    "    num=len(dataset)\n",
    "    X = np.empty((num,28*28),dtype=np.float32)\n",
    "    y = np.empty((num,),dtype=int)\n",
    "    for i in range(num):\n",
    "        X[i] = dataset[i][0].flatten()\n",
    "        y[i] = dataset[i][1]\n",
    "        \n",
    "    return X, y"
   ]
  },
  {
   "cell_type": "code",
   "execution_count": 5,
   "metadata": {},
   "outputs": [],
   "source": [
    "def compute_accuracy(y_hat,y):\n",
    "    '''\n",
    "    This function takes predicted labels and ground truth labels and return accuracy\n",
    "    Inputs:\n",
    "        y_hat (array): (N,)-shaped numpy array containing predicted labels\n",
    "        y (array)    : (N,)-shaped numpy array containing ground truth labels\n",
    "    Outputs:\n",
    "        accu (float) : accuracy between [0.,1.]\n",
    "    '''\n",
    "    accu = np.count_nonzero(y_hat==y)/len(y)\n",
    "    return accu"
   ]
  },
  {
   "cell_type": "markdown",
   "metadata": {},
   "source": [
    "## Problem 7"
   ]
  },
  {
   "cell_type": "code",
   "execution_count": 80,
   "metadata": {},
   "outputs": [],
   "source": [
    "# First we prepare data\n",
    "trainset = makeDataBase('FashionMNIST',partition='train',N=10, normalize=True)# Try different N:10/50/100/1000;\n",
    "trainX, trainy = list2ndarray(trainset)"
   ]
  },
  {
   "cell_type": "code",
   "execution_count": 81,
   "metadata": {},
   "outputs": [],
   "source": [
    "# now also load val and test (these are of fixed size)\n",
    "valset = makeDataBase('FashionMNIST',partition='val', normalize=True)\n",
    "testset = makeDataBase('FashionMNIST',partition='test', normalize=True)\n",
    "\n",
    "valX, valy = list2ndarray(valset)\n",
    "testX, testy = list2ndarray(testset)"
   ]
  },
  {
   "cell_type": "code",
   "execution_count": 48,
   "metadata": {},
   "outputs": [
    {
     "data": {
      "image/png": "[encoded data removed]",
      "text/plain": [
       "<Figure size 640x480 with 1 Axes>"
      ]
     },
     "metadata": {},
     "output_type": "display_data"
    }
   ],
   "source": [
    "# Some Sanity check: visualize an image and print its class. Play with this a bit to familiarize yourself with the\n",
    "# kind of data you are working with\n",
    "plt.imshow(trainset[0][0],cmap='gray')\n",
    "plt.title(f'This is a {classes_dict[trainset[0][1]]}')\n",
    "plt.show()"
   ]
  },
  {
   "cell_type": "code",
   "execution_count": 87,
   "metadata": {},
   "outputs": [],
   "source": [
    "def dist_matrix(A, B):\n",
    "    # source: https://www.dabblingbadger.com/blog/2020/2/27/implementing-euclidean-distance-matrix-calculations-from-scratch-in-python\n",
    "    M = A.shape[0]\n",
    "    N = B.shape[0]\n",
    "    A_dots = (A*A).sum(axis=1).reshape((M,1)) * np.ones(shape=(1,N))\n",
    "    B_dots = (B*B).sum(axis=1) * np.ones(shape=(M,1))\n",
    "    return A_dots + B_dots -2 * np.dot(A, B.transpose())\n",
    "\n",
    "def KNN_predict(trainX, trainy, testX, k):\n",
    "    N = len(trainX)\n",
    "    M = len(testX)\n",
    "    y_hat = [0] * M\n",
    "    D = dist_matrix(trainX, testX)\n",
    "    \n",
    "    for j in range(M):\n",
    "        arr = D[:, j].argsort()\n",
    "        type_cnt = np.array([0] * 10)\n",
    "        for val in arr[:k]:\n",
    "            type_cnt[trainy[val]] += 1\n",
    "        max_type = type_cnt.argmax()\n",
    "        y_hat[j] = max_type\n",
    "    \n",
    "    return y_hat"
   ]
  },
  {
   "cell_type": "markdown",
   "metadata": {},
   "source": [
    "After trying out all combinations of k and N, select the optimal k and N and compute accuracy on the test partition"
   ]
  },
  {
   "cell_type": "code",
   "execution_count": 90,
   "metadata": {},
   "outputs": [
    {
     "name": "stdout",
     "output_type": "stream",
     "text": [
      "acc, n, k: 0.6641 10 1\n",
      "acc, n, k: 0.6515 10 3\n",
      "acc, n, k: 0.6313 10 7\n",
      "acc, n, k: 0.5751 10 15\n",
      "acc, n, k: 0.5228 10 25\n",
      "acc, n, k: 0.7391 50 1\n",
      "acc, n, k: 0.7391 50 3\n",
      "acc, n, k: 0.7373 50 7\n",
      "acc, n, k: 0.7228 50 15\n",
      "acc, n, k: 0.711 50 25\n",
      "acc, n, k: 0.751 100 1\n",
      "acc, n, k: 0.7533 100 3\n",
      "acc, n, k: 0.7585 100 7\n",
      "acc, n, k: 0.7497 100 15\n",
      "acc, n, k: 0.7408 100 25\n",
      "acc, n, k: 0.8101 1000 1\n",
      "acc, n, k: 0.8167 1000 3\n",
      "acc, n, k: 0.8153 1000 7\n",
      "acc, n, k: 0.8126 1000 15\n",
      "acc, n, k: 0.8049 1000 25\n",
      "max acc, max_n, max_k 0.8167 1000 3\n"
     ]
    }
   ],
   "source": [
    "max_accuary = 0\n",
    "max_k = 0\n",
    "max_n = 0\n",
    "\n",
    "for n in 10, 50, 100, 1000:\n",
    "    trainset = makeDataBase('FashionMNIST',partition='train', N=n, normalize=True)\n",
    "    trainX, trainy = list2ndarray(trainset)\n",
    "    for k in 1, 3, 7, 15, 25:\n",
    "        y_hat = KNN_predict(trainX, trainy, valX, k)\n",
    "        accuracy = compute_accuracy(y_hat, valy)\n",
    "        print(\"acc, n, k:\", accuracy, n, k)\n",
    "\n",
    "        if accuracy > max_accuary:\n",
    "            max_accuary = accuracy\n",
    "            max_k = k\n",
    "            max_n = n\n",
    "\n",
    "print(\"max acc, max_n, max_k\", max_accuary, max_n, max_k)\n",
    "# max acc, max_n, max_k 0.8167 1000 3"
   ]
  },
  {
   "cell_type": "code",
   "execution_count": 91,
   "id": "4a6fdb47",
   "metadata": {},
   "outputs": [
    {
     "name": "stdout",
     "output_type": "stream",
     "text": [
      "best accurary using N = 1000 and k = 3 is 0.8016\n"
     ]
    }
   ],
   "source": [
    "# Calc accurary using max k and n\n",
    "# test_accuracy = compute_accuracy(y_hat, valy)\n",
    "trainset = makeDataBase('FashionMNIST',partition='train',N=1000, normalize=True)# Try different N:10/50/100/1000;\n",
    "trainX, trainy = list2ndarray(trainset)\n",
    "y_hat = KNN_predict(trainX, trainy, testX, k)\n",
    "accuracy = compute_accuracy(y_hat, testy)\n",
    "\n",
    "print(\"best accurary using N = 1000 and k = 3 is\", accuracy)\n",
    "# best accurary using N = 1000 and k = 3 is 0.8016"
   ]
  },
  {
   "cell_type": "markdown",
   "id": "fdf3bb41",
   "metadata": {},
   "source": [
    "### Problem 7 Observation\n",
    "- The bigger the training size (N), the better the accurary.\n",
    "- For neighbors k, we should avoid extreme values, such as k = 1 or k = 100. \n",
    "- If k is too small, although the model will fit the training data almost perfectly, it will not generalize well on the test set.\n",
    "- If k is too large, the model will incorperate too many neighbors, which are too far away from the data point. "
   ]
  },
  {
   "cell_type": "markdown",
   "metadata": {},
   "source": [
    "## Problem 10"
   ]
  },
  {
   "cell_type": "code",
   "execution_count": 107,
   "metadata": {},
   "outputs": [],
   "source": [
    "def train_perceptron(X,y, max_epoch=20, lr=1., lr_decay=0.95, stop_threshold=0.02):\n",
    "    '''\n",
    "    Outputs:\n",
    "        W (array)             : numpy array with size (num_classes, D)\n",
    "        b (array)             : numpy array with size (num_classes,)\n",
    "    '''\n",
    "    C = 10 # number of classes\n",
    "    D = len(X[0]) # number of features\n",
    "    N = len(X) # number of samples\n",
    "    W = np.random.rand(D, C) * 0.01 # weight matrix, each column is a class\n",
    "    b = np.random.rand(C) * 0.01 # bias vector\n",
    "\n",
    "    while max_epoch > 0:\n",
    "        update_cnt = 0.0\n",
    "        for i in range(N):\n",
    "            each_class = np.array(np.matmul(X[i], W) + b)\n",
    "            best_class = each_class.argmax()\n",
    "            if best_class != y[i]:\n",
    "                W[:, best_class] -= lr * X[i].transpose()\n",
    "                W[:, y[i]] += lr * X[i].transpose()\n",
    "                b[best_class] -= lr\n",
    "                b[y[i]] += lr\n",
    "                update_cnt += 1\n",
    "\n",
    "        if update_cnt / N < stop_threshold:\n",
    "            break\n",
    "\n",
    "        max_epoch -= 1\n",
    "        lr *= lr_decay\n",
    "\n",
    "    return W.transpose(), b"
   ]
  },
  {
   "cell_type": "code",
   "execution_count": 108,
   "metadata": {},
   "outputs": [],
   "source": [
    "def test_perceptron(X, W, b):\n",
    "    '''\n",
    "    Outputs:\n",
    "        y_hat (array): numpy array with size (N,)\n",
    "    '''\n",
    "    N = len(X)\n",
    "    y_hat = np.zeros(N, dtype=int)\n",
    "    y_matrix = np.matmul(X, W.transpose()) + b\n",
    "    for i in range(N):\n",
    "        y_hat[i] = y_matrix[i].argmax()\n",
    "\n",
    "    return y_hat"
   ]
  },
  {
   "cell_type": "code",
   "execution_count": 126,
   "metadata": {},
   "outputs": [
    {
     "name": "stdout",
     "output_type": "stream",
     "text": [
      "decay_rate, acc 0.9 0.8009\n",
      "decay_rate, acc 0.5 0.8224\n",
      "decay_rate, acc 0.3 0.8252\n",
      "decay_rate, acc 0.1 0.8231\n",
      "decay_rate, acc 0.05 0.8229\n",
      "decay_rate, acc 0.01 0.8147\n",
      "best rate, acc 0.3 0.8252\n"
     ]
    }
   ],
   "source": [
    "# Tune lr on validation partition\n",
    "\n",
    "trainset = makeDataBase('FashionMNIST',partition='train',N=1000, normalize=True, shuffle=True)\n",
    "trainX, trainy = list2ndarray(trainset)\n",
    "\n",
    "best_accu = 0\n",
    "best_decay_rate = -1\n",
    "\n",
    "for decay_rate in 0.9, 0.5, 0.3, 0.1, 0.05, 0.01:\n",
    "    W, b = train_perceptron(trainX, trainy, lr=1, lr_decay=decay_rate) \n",
    "    y_hat = test_perceptron(valX, W, b)\n",
    "    accu = compute_accuracy(y_hat, valy)\n",
    "    if accu > best_accu:\n",
    "        best_accu = accu\n",
    "        best_decay_rate = decay_rate\n",
    "    print(\"decay_rate, acc\", decay_rate, accu)\n",
    "\n",
    "print(\"best rate, acc\", best_decay_rate, best_accu)\n",
    "# best rate, acc 0.3 0.8252"
   ]
  },
  {
   "cell_type": "code",
   "execution_count": 122,
   "metadata": {},
   "outputs": [
    {
     "name": "stdout",
     "output_type": "stream",
     "text": [
      "best lr, acc 0.5 0.7655\n"
     ]
    }
   ],
   "source": [
    "# Test accu on test set\n",
    "lr = 0.5\n",
    "W, b = train_perceptron(trainX, trainy, lr=0.5)\n",
    "y_hat = test_perceptron(testX, W, b)\n",
    "accu = compute_accuracy(y_hat, testy)\n",
    "print(\"best lr, acc\", lr, accu)\n",
    "# best lr, acc 0.5 0.7655"
   ]
  },
  {
   "cell_type": "markdown",
   "metadata": {},
   "source": [
    "## Problem 11"
   ]
  },
  {
   "cell_type": "code",
   "execution_count": 119,
   "metadata": {},
   "outputs": [
    {
     "name": "stdout",
     "output_type": "stream",
     "text": [
      "[9 9 9 ... 9 9 9]\n",
      "un-shuffle acc 0.1194\n"
     ]
    }
   ],
   "source": [
    "trainset = makeDataBase('FashionMNIST',partition='train',N=1000, normalize=True, shuffle=False)\n",
    "trainX, trainy = list2ndarray(trainset)\n",
    "W, b = train_perceptron(trainX, trainy, lr=1.0)\n",
    "y_hat = test_perceptron(valX, W, b)\n",
    "accu = compute_accuracy(y_hat, valy)\n",
    "print(\"y_hat\", y_hat)\n",
    "# [9 9 9 ... 9 9 9]\n",
    "print(\"un-shuffle acc\", accu)\n",
    "# un-shuffle acc 0.1059"
   ]
  },
  {
   "cell_type": "markdown",
   "id": "e63d825b",
   "metadata": {},
   "source": [
    "# What do you observe? What could be the reason?\n",
    "\n",
    "- If no shuffle, the first N samples will c1 class, second N samples will be c2 class, ..., tenth N samples will be c10 class.  \n",
    "- When training on this dataset, after first N samples, c1 class's weight will be boosted, and other classes' weights negligible.\n",
    "- After second N samples, c2's weight will be high, and others weights negligible.\n",
    "- ...\n",
    "- After tenth N samples, c10's weight will be high, and other weights negligible.\n",
    "- Therefore, the trained weights will be dominated by c10, thus causing the prediction to be always class 10 (which is index 9 in y_hat).\n",
    "- Hence, when apply the model on a test set, the accurary will be close to 1/10, as the model will always predict index 9 class. "
   ]
  }
 ],
 "metadata": {
  "kernelspec": {
   "display_name": "Python 3.8.13 ('env': venv)",
   "language": "python",
   "name": "python3"
  },
  "language_info": {
   "codemirror_mode": {
    "name": "ipython",
    "version": 3
   },
   "file_extension": ".py",
   "mimetype": "text/x-python",
   "name": "python",
   "nbconvert_exporter": "python",
   "pygments_lexer": "ipython3",
   "version": "3.8.13"
  },
  "vscode": {
   "interpreter": {
    "hash": "f594f625523eedf37de17555ec746ece4289f4fa39150ea03385bfab3da2cc11"
   }
  }
 },
 "nbformat": 4,
 "nbformat_minor": 5
}
