{
 "cells": [
  {
   "cell_type": "markdown",
   "metadata": {},
   "source": [
    "# PSet1 Coding Problems"
   ]
  },
  {
   "cell_type": "markdown",
   "metadata": {},
   "source": [
    "Most notebooks will start with a setup, including loading important packages. "
   ]
  },
  {
   "cell_type": "code",
   "execution_count": null,
   "metadata": {},
   "outputs": [],
   "source": [
    "import matplotlib.pyplot as plt\n",
    "%matplotlib inline\n",
    "# ^^ Predefined ‘magic function’ telling Jupyter to display images inline (rather than pop up a separate window)\n",
    "import matplotlib.image as mimg\n",
    "# ^^ package to help us read in images\n",
    "import numpy as np\n",
    "import random\n",
    "import os"
   ]
  },
  {
   "cell_type": "markdown",
   "metadata": {},
   "source": [
    "## Provided functions"
   ]
  },
  {
   "cell_type": "markdown",
   "metadata": {},
   "source": [
    "FashionMNIST contains 10 classes, labeled as 0,1,2,...,9 in the dataset. Below is the mapping between numeric labels and their actual classes"
   ]
  },
  {
   "cell_type": "code",
   "execution_count": null,
   "metadata": {},
   "outputs": [],
   "source": [
    "classes_dict={0:'T-shirt/top',\n",
    "              1:'Trouser',\n",
    "              2:'Pullover',\n",
    "              3:'Dress',\n",
    "              4:'Coat',\n",
    "              5:'Sandal',\n",
    "              6:'Shirt',\n",
    "              7:'Sneaker',\n",
    "              8:'Bag',\n",
    "              9:'Ankle boot'}"
   ]
  },
  {
   "cell_type": "code",
   "execution_count": null,
   "metadata": {},
   "outputs": [],
   "source": [
    "def makeDataBase(basename,partition='train',N=None, shuffle=False,normalize=True):\n",
    "    '''\n",
    "    This function will create one database that will contain images with their lables\n",
    "    The data are supposed to be in the paths consisting of\n",
    "     <basename> / <partition> / <category> / <category>-<index>.jpg\n",
    "     e.g., FashionMNIST/val/4/4-37.jpg\n",
    "    Inputs:\n",
    "        basename (str)  : name of the folder containing all the data. It should be \"FashionMNIST\"\n",
    "        partition (str) : \"train\" or \"val\" or \"test\"\n",
    "        N (int)         : number of examples for each category; when N=None, all samples will be loaded\n",
    "        shuffle (bool)  : boolean value; if False, samples from category 0 will be returned first and samples from category 9 last\n",
    "                          if True, samples will be randomly shuffled\n",
    "        normalize (bool): boolean value; if True, samples are normalized to [-1,1]\n",
    "    Outputs:\n",
    "        database (list) : list of tuples (x,y). x is image data. y is numeric label of x \n",
    "        \n",
    "    '''\n",
    "    database=[]\n",
    "    for label in range(10):\n",
    "        n = len(os.listdir(os.path.join(basename,partition,str(label)))) if N is None else N\n",
    "        for i in range(n):          \n",
    "            imageName=os.path.join(basename,partition,str(label),str(label)+'-'+str(i)+'.jpg')\n",
    "            imageData=mimg.imread(imageName)\n",
    "            imageData = np.float32(imageData) if not normalize else np.float32(imageData)/255*2-1\n",
    "            database.append((imageData,label))\n",
    "    if shuffle:\n",
    "        random.shuffle(database)\n",
    "    return database\n",
    "\n"
   ]
  },
  {
   "cell_type": "code",
   "execution_count": null,
   "metadata": {},
   "outputs": [],
   "source": [
    "def list2ndarray(dataset):\n",
    "    '''\n",
    "    This function will take the output from makeDataBase() and return two numpy arrays: X and y\n",
    "    Inputs:\n",
    "        dataset (list): list of (sample, label) pairs\n",
    "    Outputs:\n",
    "        X (array)     : a 2D numpy array with size (N,D). N is the length of dataset, D is 28*28. \n",
    "                        Each row of X is an image sample flattened\n",
    "        y (array)     : a numpy array with size (N,). y contains numeric labels of corresponding samples\n",
    "    '''\n",
    "    num=len(dataset)\n",
    "    X = np.empty((num,28*28),dtype=np.float32)\n",
    "    y = np.empty((num,),dtype=int)\n",
    "    for i in range(num):\n",
    "        X[i] = dataset[i][0].flatten()\n",
    "        y[i] = dataset[i][1]\n",
    "        \n",
    "    return X, y"
   ]
  },
  {
   "cell_type": "code",
   "execution_count": null,
   "metadata": {},
   "outputs": [],
   "source": [
    "def compute_accuracy(y_hat,y):\n",
    "    '''\n",
    "    This function takes predicted labels and ground truth labels and return accuracy\n",
    "    Inputs:\n",
    "        y_hat (array): (N,)-shaped numpy array containing predicted labels\n",
    "        y (array)    : (N,)-shaped numpy array containing ground truth labels\n",
    "    Outputs:\n",
    "        accu (float) : accuracy between [0.,1.]\n",
    "    '''\n",
    "    accu = np.count_nonzero(y_hat==y)/len(y)\n",
    "    return accu"
   ]
  },
  {
   "cell_type": "markdown",
   "metadata": {},
   "source": [
    "## Problem 7"
   ]
  },
  {
   "cell_type": "code",
   "execution_count": null,
   "metadata": {},
   "outputs": [],
   "source": [
    "#First we prepare data\n",
    "trainset = makeDataBase('FashionMNIST',partition='train',N=100, normalize=True)# Try different N:10/50/100/1000; \n",
    "# you can also try omitting N in which case it will load all available training images. The numbers per class \n",
    "# are a bit different, but there is a total of 50,000 images; everything will be slower with more data.\n",
    "\n",
    "# convert the list to matrix/vector format which will make computation easier\n",
    "trainX, trainy = list2ndarray(trainset)"
   ]
  },
  {
   "cell_type": "code",
   "execution_count": null,
   "metadata": {},
   "outputs": [],
   "source": [
    "# now also load val and test (these are of fixed size)\n",
    "valset = makeDataBase('FashionMNIST',partition='val',normalize=True)\n",
    "testset = makeDataBase('FashionMNIST',partition='test',normalize=True)\n",
    "\n",
    "valX, valy = list2ndarray(valset)\n",
    "testX, testy = list2ndarray(testset)"
   ]
  },
  {
   "cell_type": "code",
   "execution_count": null,
   "metadata": {},
   "outputs": [],
   "source": [
    "# Some Sanity check: visualize an image and print its class. Play with this a bit to familiarize yourself with the\n",
    "# kind of data you are working with\n",
    "plt.imshow(trainset[0][0],cmap='gray')\n",
    "plt.title(f'This is a {classes_dict[trainset[0][1]]}')\n",
    "plt.show()"
   ]
  },
  {
   "cell_type": "code",
   "execution_count": null,
   "metadata": {},
   "outputs": [],
   "source": [
    "def KNN_predict(trainX, trainy, testX, k=1):\n",
    "    '''\n",
    "    IMPLEMENT THIS\n",
    "    This function predicts labels using KNN algorithm\n",
    "    Inputs:\n",
    "        trainX (array): training data. numpy array with size (N,D)\n",
    "        trainy (array): label of training data. numpy array with size (N,)\n",
    "        testX (array) : testing data. numpy array with size (M,D)\n",
    "        k (int)       : number of nearest neighbors.\n",
    "    Outputs:\n",
    "        y_hat (array) : predicted label of textX, numpy array with size (M,)\n",
    "        \n",
    "        \n",
    "    Hint:\n",
    "    Step1: construct L2 distance matrix D with size (N,M) where len(trainX)=N and len(testX)=M\n",
    "    Step2: For each column in D, select lowest k values and get their indices (row number)\n",
    "    Step3: For each sample in testX, find the labels of its k-nearest neighbors \n",
    "    Step4: Assign a label to each testX sample by a plurality vote of its neighbors\n",
    "    Step5: return predicted labels of testX. It should be a numpy array with size (M,)\n",
    "    '''\n",
    "    return y_hat"
   ]
  },
  {
   "cell_type": "code",
   "execution_count": null,
   "metadata": {},
   "outputs": [],
   "source": [
    "y_hat = KNN_predict(trainX, trainy, valX, k=1) #Try different k: 1,3,7,15,25\n",
    "accuracy = compute_accuracy(y_hat, valy)\n",
    "#0 means all wrong; 1.0 means all correct; random guess should give you ~0.1, as there are 10 classes\n",
    "print(f'Accuracy for your KNN predictor is {accuracy}')"
   ]
  },
  {
   "cell_type": "markdown",
   "metadata": {},
   "source": [
    "After trying out all combinations of k and N, select the optimal k and N and compute accuracy on the test partition"
   ]
  },
  {
   "cell_type": "code",
   "execution_count": null,
   "metadata": {},
   "outputs": [],
   "source": [
    "#Compute test partition accuracy here"
   ]
  },
  {
   "cell_type": "markdown",
   "metadata": {},
   "source": [
    "## Problem 10"
   ]
  },
  {
   "cell_type": "code",
   "execution_count": null,
   "metadata": {},
   "outputs": [],
   "source": [
    "def train_perceptron(X,y, max_epoch=20, lr=1., lr_decay=0.95, stop_threshold=0.02):\n",
    "    '''\n",
    "    IMPLEMENT THIS\n",
    "    This function trains a 10-way percpetron and returns learned parameters of the classifier\n",
    "    Inputs:  (feel free to add more optional arguments, if you want)\n",
    "        X (array)             : training data. numpy array with size (N,D)\n",
    "        y (array)             : label of training data. numpy array with size (N,)\n",
    "        max_epoch (int)       : max number of epochs to run\n",
    "        lr (float)            : learning rate\n",
    "        lr_decay (float)      : multiplier for lr at the end of each epoch; range(0,1]\n",
    "        stop_threshold (float): early stopping if percentage of error made by the model lower than this number; range [0,1]\n",
    "    Outputs:\n",
    "        W (array)             : numpy array with size (num_classes, D)\n",
    "        b (array)             : numpy array with size (num_classes,)\n",
    "    '''\n",
    "    return W, b"
   ]
  },
  {
   "cell_type": "code",
   "execution_count": null,
   "metadata": {},
   "outputs": [],
   "source": [
    "def test_perceptron(X, W, b):\n",
    "    '''\n",
    "    IMPLEMENT THIS\n",
    "    This function predicts labels of data X using learned W and b\n",
    "    Inputs:\n",
    "        X (array)    : testing data. numpy array with size (N, D)\n",
    "        W (array)    : numpy array with size (num_classes, D)\n",
    "        b (array)    : numpy array with size (num_classes,) \n",
    "    Outputs:\n",
    "        y_hat (array): numpy array with size (N,)\n",
    "    '''\n",
    "    return y_hat"
   ]
  },
  {
   "cell_type": "code",
   "execution_count": null,
   "metadata": {},
   "outputs": [],
   "source": [
    "# You can load all data with N=None, but it will take a long time to train\n",
    "# Make suffle = True\n",
    "trainset = makeDataBase('FashionMNIST',partition='train',N=1000, normalize=True, shuffle=True)\n",
    "trainX, trainy = list2ndarray(trainset)"
   ]
  },
  {
   "cell_type": "code",
   "execution_count": null,
   "metadata": {},
   "outputs": [],
   "source": [
    "W, b = train_perceptron(trainX, trainy, lr=1.0) #Tune lr on validation partition\n",
    "y_hat = test_perceptron(valX, W, b)\n",
    "accu = compute_accuracy(y_hat, valy)"
   ]
  },
  {
   "cell_type": "code",
   "execution_count": null,
   "metadata": {},
   "outputs": [],
   "source": [
    "#Compute test partition accuracy here, with your best lr"
   ]
  },
  {
   "cell_type": "markdown",
   "metadata": {},
   "source": [
    "## Problem 11"
   ]
  },
  {
   "cell_type": "code",
   "execution_count": null,
   "metadata": {},
   "outputs": [],
   "source": [
    "trainset = makeDataBase('FashionMNIST',partition='train',N=1000, normalize=True, shuffle=False)\n",
    "trainX, trainy = list2ndarray(trainset)\n",
    "W, b = train_perceptron(trainX, trainy, lr=1.0)\n",
    "y_hat = test_perceptron(valX, W, b)\n",
    "accu = compute_accuracy(y_hat, valy)"
   ]
  },
  {
   "cell_type": "code",
   "execution_count": null,
   "metadata": {},
   "outputs": [],
   "source": [
    "#What do you observe? What could be the reason?"
   ]
  }
 ],
 "metadata": {
  "kernelspec": {
   "display_name": "Python 3.8.13 ('env': venv)",
   "language": "python",
   "name": "python3"
  },
  "language_info": {
   "codemirror_mode": {
    "name": "ipython",
    "version": 3
   },
   "file_extension": ".py",
   "mimetype": "text/x-python",
   "name": "python",
   "nbconvert_exporter": "python",
   "pygments_lexer": "ipython3",
   "version": "3.8.13"
  },
  "vscode": {
   "interpreter": {
    "hash": "f594f625523eedf37de17555ec746ece4289f4fa39150ea03385bfab3da2cc11"
   }
  }
 },
 "nbformat": 4,
 "nbformat_minor": 5
}
