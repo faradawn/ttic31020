{
 "cells": [
  {
   "cell_type": "markdown",
   "metadata": {},
   "source": [
    "## Libraries and utility functions"
   ]
  },
  {
   "cell_type": "code",
   "execution_count": 25,
   "metadata": {},
   "outputs": [],
   "source": [
    "import os\n",
    "import csv\n",
    "import random\n",
    "import struct\n",
    "import pathlib\n",
    "import numpy as np\n",
    "from tqdm import tqdm\n",
    "import matplotlib as mpl\n",
    "import matplotlib.pyplot as plt\n",
    "\n",
    "from scipy import stats\n",
    "from typing import Union, Tuple, List"
   ]
  },
  {
   "cell_type": "code",
   "execution_count": 26,
   "metadata": {},
   "outputs": [],
   "source": [
    "base_path = str(pathlib.Path().absolute())\n",
    "## images path\n",
    "mnist_data = base_path+\"/data/\""
   ]
  },
  {
   "cell_type": "markdown",
   "metadata": {},
   "source": [
    "### Utility functions"
   ]
  },
  {
   "cell_type": "code",
   "execution_count": 27,
   "metadata": {},
   "outputs": [],
   "source": [
    "def read_MNIST(dataset: str=\"training\", path: str=\"./\") -> Union[Tuple[np.ndarray,np.ndarray], np.ndarray]:\n",
    "    \"\"\"\n",
    "    Reads in the MNIST data\n",
    "    This function allows specification of the part to be read (training/testing/validation)\n",
    "    Note that if dataset='testing', no labels will be returned\n",
    "    \"\"\"\n",
    "    \n",
    "    #Figure out the name of the file to load    \n",
    "    if dataset.lower() == \"training\":\n",
    "        file_name_suffix = 'train'\n",
    "        has_labels = True\n",
    "    \n",
    "    elif dataset.lower() == \"validation\":\n",
    "        file_name_suffix = 'val'\n",
    "        has_labels = True\n",
    "\n",
    "    elif dataset.lower() == \"testing\":\n",
    "        file_name_suffix = 'test'\n",
    "        has_labels = True\n",
    "\n",
    "    else:\n",
    "        print(\"dataset must be 'testing','validation', or 'training'\")\n",
    "        raise ValueError\n",
    "    \n",
    "    #Load the appropriate files\n",
    "    X = np.load(mnist_data+'X'+file_name_suffix+'.npy')\n",
    "    if has_labels:\n",
    "        y = np.load(mnist_data+'y'+file_name_suffix+'.npy')\n",
    "    \n",
    "    X = np.float64(X).reshape(X.shape[0],-1)\n",
    "    y = y.flatten().astype('int')\n",
    "    \n",
    "    #Return the appropriate data\n",
    "    if has_labels:\n",
    "        return X,y\n",
    "    else:\n",
    "        return X\n",
    "\n",
    "\n",
    "def show_MNIST_example(image) -> None:\n",
    "    \"\"\"\n",
    "    Render a given numpy.uint8 array of pixel data as an image.\n",
    "    \"\"\"\n",
    "    image = image[-28**2:]\n",
    "    image = image.reshape(28,28)\n",
    "\n",
    "    fig = plt.figure()\n",
    "    ax = fig.add_subplot(1,1,1)\n",
    "    imgplot = ax.imshow(image, cmap=mpl.cm.Greys)\n",
    "    imgplot.set_interpolation('nearest')\n",
    "    ax.xaxis.set_ticks_position('top')\n",
    "    ax.yaxis.set_ticks_position('left')\n",
    "    plt.axis('off')\n",
    "    plt.show()"
   ]
  },
  {
   "cell_type": "code",
   "execution_count": 28,
   "metadata": {
    "scrolled": true
   },
   "outputs": [
    {
     "name": "stdout",
     "output_type": "stream",
     "text": [
      "Training image\n",
      "Class: 9\n"
     ]
    },
    {
     "data": {
      "image/png": "[encoded data removed]",
      "text/plain": [
       "<Figure size 432x288 with 1 Axes>"
      ]
     },
     "metadata": {
      "needs_background": "light"
     },
     "output_type": "display_data"
    },
    {
     "name": "stdout",
     "output_type": "stream",
     "text": [
      "<class 'numpy.ndarray'>\n"
     ]
    }
   ],
   "source": [
    "# load the data and visualize a training example\n",
    "X,y = read_MNIST(\"training\")\n",
    "print(\"Training image\")\n",
    "print(f\"Class: {y[100]}\")\n",
    "show_MNIST_example(X[100])\n",
    "\n",
    "X_val,y_val = read_MNIST(\"validation\")\n",
    "X_test, y_test = read_MNIST(\"testing\")\n",
    "\n",
    "# let's shuffle the data\n",
    "np.random.seed(789123)\n",
    "indices = np.arange(len(X))\n",
    "np.random.shuffle(indices)\n",
    "X = X[indices]\n",
    "y = y[indices]\n",
    "print(type(y))\n"
   ]
  },
  {
   "cell_type": "code",
   "execution_count": null,
   "metadata": {},
   "outputs": [],
   "source": []
  },
  {
   "cell_type": "markdown",
   "metadata": {},
   "source": [
    "## Decision Trees (ToDo)"
   ]
  },
  {
   "cell_type": "code",
   "execution_count": 29,
   "metadata": {},
   "outputs": [],
   "source": [
    "class Node:\n",
    "    \"\"\"\n",
    "    Building block of the Decision Tree.\n",
    "    \"\"\"\n",
    "    left = None  # left child\n",
    "    right = None  # right child\n",
    "    index = None  # feature index (what is the feature by which we split)\n",
    "    val = None  # what's the value at which we split\n",
    "    # Once you arrive at a leaf Node then we use labels\n",
    "    is_leaf = True\n",
    "    label = None\n",
    "    \n",
    "    def __init__(self, left=None, right=None, index=None, val=None, is_leaf=True, label=None):\n",
    "        self.left = left\n",
    "        self.right = right\n",
    "        self.val = val\n",
    "        self.is_leaf = is_leaf\n",
    "        self.label = label\n",
    "        \n",
    "    def classify(self, x):\n",
    "        # this is a recursive function, following the path to the correct leaf\n",
    "        if self.is_leaf:\n",
    "            return self.label\n",
    "        elif x[self.index] <= self.val:\n",
    "            return self.left.classify(x)\n",
    "        elif x[self.index] > self.val:\n",
    "            return self.right.classify(x)\n",
    "        \n",
    "            \n",
    "    def classify_set(self, X):\n",
    "        # work on examples in a loop \n",
    "        res = []\n",
    "        for sample in X:\n",
    "            res.append(self.classify(sample))\n",
    "        return np.asarray(res)\n",
    "            \n",
    "    #useful for debugging (on small trees)\n",
    "    def print_tree(self) -> None:\n",
    "        print(f\"index = {self.index}, val = {self.val}, leaf = {self.is_leaf}, label = {self.label}, left = {self.left}, right = {self.right}\")\n",
    "        if self.left is not None:\n",
    "            print(\"left = \", end=\"\")\n",
    "            self.left.print_tree()\n",
    "        if self.right is not None:\n",
    "            print(\"right = \", end=\"\")\n",
    "            self.right.print_tree()"
   ]
  },
  {
   "cell_type": "code",
   "execution_count": 30,
   "metadata": {},
   "outputs": [],
   "source": [
    "# to classify a leaf node take the mode of the labels that arrive at the leaf\n",
    "def label_leaf(labels):\n",
    "    classes, counts = np.unique(labels, return_counts=True)\n",
    "    return classes[np.argmax(counts)]"
   ]
  },
  {
   "cell_type": "code",
   "execution_count": 31,
   "metadata": {},
   "outputs": [],
   "source": [
    "def best_split_gini(features, labels, min_split_size=5):\n",
    "    \"\"\"\n",
    "    Given a set of feature values (for a single feature) and the corresponding labels,\n",
    "    find the split that minimizes the (weighted by size) sum of the Gini indices of the two parts\n",
    "    Note: the combined Gini index is given by len(L)*G[0]+len(U)*G[1]\n",
    "\n",
    "    Returns: (tau, G, L, U)\n",
    "        tau : the threshold to split\n",
    "        G : 2-tuple with the Gini indices of the two parts\n",
    "        L, U : indices of the points that go into L and U\n",
    "    \"\"\"\n",
    "    \n",
    "    # sort the feature values (and permute the labels to match that order)\n",
    "    order = np.argsort(features)\n",
    "    x = features[order]\n",
    "    y = labels[order]\n",
    "    N = len(x)\n",
    "    classes = np.unique(labels)\n",
    "    \n",
    "    # check if there is nothing to split\n",
    "    if (x[0]==x[-1]) or (len(classes)==1):\n",
    "        return None, [np.inf,np.inf], range(N), None    \n",
    "    \n",
    "    # freq_u maintains frequencies of labels in the (potential) upper portion of the split,\n",
    "    # and freq_l in the lower\n",
    "    \n",
    "    freq_u = np.zeros(np.max(classes) + 1)\n",
    "    for c in range(len(freq_u)):\n",
    "        freq_u[c] = np.mean(labels==c)\n",
    "    freq_l = np.zeros(np.max(classes) + 1)\n",
    "    \n",
    "    # now go over the examples in order of increasing feature value;\n",
    "    # consider splitting before each index where the value changes\n",
    "    # rather that computing the Gini index from scratch for every split, we will keep track\n",
    "    # of the running frequencies (as we traverse the list of examples ordered by feature value)\n",
    "    # and simply recompute Gini from the frequencies each step (much faster)\n",
    "    \n",
    "    gini=dict()\n",
    "    splits=dict()\n",
    "    for i in range(N-1):\n",
    "        # update frequencies\n",
    "        freq_l[y[i]] += 1/N     # This data is removed from the lower range\n",
    "                                # into the upper range\n",
    "        freq_u[y[i]] -= 1/N\n",
    "        \n",
    "        if x[i+1] > x[i]: # split here, between i and i+1?\n",
    "            tau = (x[i+1] + x[i]) / 2.0  # a threshold that separates \n",
    "                                         # x[i+1] and x[i]\n",
    "            \n",
    "            gini_l = np.dot(freq_l, 1-freq_l)\n",
    "            gini_u = np.dot(freq_u, 1-freq_u)\n",
    "            \n",
    "            gini[tau] = (i * gini_l + (N-i) * gini_u, gini_l, gini_u) \n",
    "            splits[tau] = i+1 # index of the first element that goes to U\n",
    "\n",
    "    # now find the best split\n",
    "    best_tau = -1\n",
    "    bestval = np.inf\n",
    "    for t in gini:\n",
    "        if gini[t][0] < bestval:\n",
    "            best_tau = t\n",
    "            bestval = gini[t][0]\n",
    "    \n",
    "    L = order[:splits[best_tau]]\n",
    "    U = order[splits[best_tau]:]\n",
    "    \n",
    "    return best_tau, gini[best_tau][1:], L, U"
   ]
  },
  {
   "cell_type": "code",
   "execution_count": 32,
   "metadata": {},
   "outputs": [],
   "source": [
    "def split_data(X, y, min_split_size=5, M=None):\n",
    "    # Find the best way to split the data in X (with labels y) by a single feature\n",
    "    # Don't split if not enough data given min_split_size (return None), otherwise\n",
    "    # return a dictionary with the following key/value pairs:\n",
    "    # 'd' -> the index of the feature in X by which we are splitting;\n",
    "    # 'tau' -> the threshold at which we are splitting that feature;\n",
    "    # 'Gini' -> the (weighted) Gini index of the two new leaves;\n",
    "    # 'Gini-parts' -> a 2-tuple (list) of Gini indices of the L and U leaves after the split;\n",
    "    # 'L' -> indices of the examples in X that go into the lower (left) leaf;\n",
    "    # 'U' -> same for the upper (right) leaf\n",
    "    #\n",
    "    # M specifies the number of features to consider in looking for the best split. If M=None, this means using\n",
    "    # all the features of X. Otherwise, if say M=50, this means pick 50 features at random and only consider \n",
    "    # splitting by these features.\n",
    "    \n",
    "    if X.shape[0] < min_split_size:\n",
    "        return None\n",
    "    \n",
    "    D = X.shape[1] # number of features\n",
    "\n",
    "    if M == None:\n",
    "        f_lst = [i for i in range(D)]\n",
    "    else:\n",
    "        lst = [i for i in range(D)]\n",
    "        f_lst = [i for i in random.sample(lst, 50)] # randomly get 50 feature index\n",
    "\n",
    "    min_weighted_gini = None\n",
    "    best_feature_id = None\n",
    "    best_feature_tau = None\n",
    "    best_gini_parts = None\n",
    "    best_lower_index = None\n",
    "    best_upper_index = None\n",
    "\n",
    "    for id in f_lst:\n",
    "        # id here represents a single feature\n",
    "        features = X[: , id] #Set of feature values\n",
    "        tau, gini_parts, L, U = best_split_gini(features, y, min_split_size)\n",
    "\n",
    "        if (tau == None):\n",
    "            # when there is nothing to split \n",
    "            continue\n",
    "\n",
    "        num_lower = len(L)\n",
    "        num_upper = len(U)\n",
    "        weighted_gini = (gini_parts[0] * num_lower + gini_parts[1] * num_upper) / (num_lower + num_upper)\n",
    "\n",
    "        if (min_weighted_gini == None) or (weighted_gini < min_weighted_gini):\n",
    "            min_weighted_gini = weighted_gini\n",
    "            best_feature_id = id\n",
    "            best_feature_tau = tau\n",
    "            best_gini_parts = gini_parts\n",
    "            best_lower_index = L\n",
    "            best_upper_index = U\n",
    "    \n",
    "    if best_feature_id == None:\n",
    "        # For all selected features, there is nothing left to split\n",
    "        return None\n",
    "\n",
    "\n",
    "    res = dict()\n",
    "    res['d'] = best_feature_id\n",
    "    res['tau'] = best_feature_tau\n",
    "    res['Gini'] = min_weighted_gini\n",
    "    res['Gini-parts'] = best_gini_parts\n",
    "    res['L'] = best_lower_index\n",
    "    res['U'] = best_upper_index\n",
    "        \n",
    "    return res"
   ]
  },
  {
   "cell_type": "code",
   "execution_count": 33,
   "metadata": {},
   "outputs": [],
   "source": [
    "def grow_tree(\n",
    "    root, \n",
    "    data, \n",
    "    labels, \n",
    "    depth, \n",
    "    max_depth=np.inf, \n",
    "    min_split_size=1, \n",
    "    M=None):\n",
    "    # this takes root (a node associated with data/labels, and existing at the given depth)\n",
    "    # and builds a tree rooted at that node, not to exceed the given max_depth\n",
    "   \n",
    "    # take a look at Node.classify() to get a better sense how the recursive nature of the tree\n",
    "    # lets you \"drop a point down the tree\" and assign a label once you are in the leaf\n",
    "\n",
    "    if (depth == max_depth):\n",
    "        no_split=True # we are done, no more splitting below this node\n",
    "    else:\n",
    "        best_split = split_data(data, labels, min_split_size,M)\n",
    "        if best_split==None: # for some reason the splitting code refused to split\n",
    "            no_split=True\n",
    "        else: # splitting!\n",
    "            no_split=False\n",
    "            \n",
    "            # COMPLETE CODE: assign values to .index, .val, .is_leaf\n",
    "            \n",
    "            root.left = grow_tree(Node(), data[best_split['L']], labels[best_split['L']], depth+1, max_depth,min_split_size,M)\n",
    "            root.right = grow_tree(Node(), data[best_split['U']], labels[best_split['U']], depth+1, max_depth,min_split_size,M)\n",
    "            root.index = best_split['d']\n",
    "            root.val = best_split['tau']\n",
    "            root.is_leaf = False\n",
    "            \n",
    "            \n",
    "    if no_split: # this is going to be a leaf, let's record this fact and assign it a label to predict\n",
    "        # COMPLETE CODE HERE  -- what do you need to assign in a leaf?\n",
    "        root.is_leaf = True\n",
    "        root.label = label_leaf(labels)\n",
    "               \n",
    "    return root"
   ]
  },
  {
   "cell_type": "code",
   "execution_count": 34,
   "metadata": {},
   "outputs": [],
   "source": [
    "def build_tree(data, labels, max_depth=np.inf, min_split_size=1, M=None):\n",
    "    root=Node()\n",
    "    tree=grow_tree(root,\n",
    "                   data,\n",
    "                   labels,\n",
    "                   depth=0, # this will \"signal\" to the tree growing function that this is the root\n",
    "                   max_depth=max_depth,\n",
    "                   min_split_size=min_split_size,\n",
    "                   M=M)\n",
    "    return tree"
   ]
  },
  {
   "cell_type": "code",
   "execution_count": null,
   "metadata": {},
   "outputs": [],
   "source": []
  },
  {
   "cell_type": "code",
   "execution_count": 20,
   "metadata": {
    "scrolled": true
   },
   "outputs": [],
   "source": [
    "tree = build_tree(X, y, max_depth=10, min_split_size=3, M=None) # may take a few minutes"
   ]
  },
  {
   "cell_type": "markdown",
   "metadata": {},
   "source": [
    "### Training and validation accuracy for the tree (ToDo)\n",
    "\n",
    "- **Compute** training and validation accuracies\n",
    "\n",
    "- **Report** training and validation set accuracies of a single tree, \n",
    "    - with **hyperparameters** (max tree depth and minimum size of a leaf) tuned as you see fit (make sure to describe how you tuned them and include the code and output from the process in the notebook). "
   ]
  },
  {
   "cell_type": "code",
   "execution_count": 25,
   "metadata": {},
   "outputs": [
    {
     "name": "stdout",
     "output_type": "stream",
     "text": [
      "The train accuracy is 0.9096444444444445\n"
     ]
    }
   ],
   "source": [
    "predict = tree.classify_set(X)\n",
    "num_correct = 0\n",
    "num_total = len(predict)\n",
    "for i in range(num_total):\n",
    "    if (y[i] == predict[i]):\n",
    "        num_correct += 1\n",
    "train_accuracy = num_correct/num_total\n",
    "print(\"The train accuracy is {}\".format(train_accuracy))"
   ]
  },
  {
   "cell_type": "code",
   "execution_count": 26,
   "metadata": {},
   "outputs": [
    {
     "name": "stdout",
     "output_type": "stream",
     "text": [
      "The best accuracy is 0.847, the best depth is 10, the best size is 3\n"
     ]
    }
   ],
   "source": [
    "max_depth = [5, 10, 15]\n",
    "split_size = [3, 5]\n",
    "best_accuracy = 0\n",
    "best_depth = 0\n",
    "best_size = 0\n",
    "for depth in max_depth:\n",
    "    for size in split_size:\n",
    "        tree = build_tree(X, y, max_depth=depth, min_split_size=size, M=None)\n",
    "        val_predict = tree.classify_set(X_val)\n",
    "        num_correct = 0\n",
    "        num_total = len(val_predict)\n",
    "        for i in range(num_total):\n",
    "            if (y_val[i] == val_predict[i]):\n",
    "                num_correct += 1\n",
    "        val_accuracy = num_correct/num_total\n",
    "\n",
    "        if(val_accuracy > best_accuracy):\n",
    "            best_accuracy = val_accuracy\n",
    "            best_depth = depth\n",
    "            best_size = size\n",
    "\n",
    "print(\"The best accuracy is {}, the best depth is {}, the best size is {}\".format(best_accuracy, best_depth, best_size))"
   ]
  },
  {
   "cell_type": "code",
   "execution_count": null,
   "metadata": {},
   "outputs": [],
   "source": [
    "val_predict = tree.classify_set(X_val)\n",
    "num_correct = 0\n",
    "num_total = len(val_predict)\n",
    "for i in range(num_total):\n",
    "    if (y_val[i] == val_predict[i]):\n",
    "        num_correct += 1\n",
    "val_accuracy = num_correct/num_total\n",
    "print(\"The accuracy on the val set is {}\".format(val_accuracy))"
   ]
  },
  {
   "cell_type": "markdown",
   "metadata": {},
   "source": [
    "The hyperparameter we choose is max_depth = 10, min_split_size = 3"
   ]
  },
  {
   "cell_type": "markdown",
   "metadata": {},
   "source": [
    "### Test accuracy (ToDo)\n",
    "\n",
    "- **Compute and report** the results on test set, for the model built with the chosen values – please don’t be tempted to evaluate the model on test more than once, so be sure you are done with the tuning!"
   ]
  },
  {
   "cell_type": "code",
   "execution_count": 35,
   "metadata": {},
   "outputs": [],
   "source": [
    "tree = build_tree(X, y, max_depth=10, min_split_size=3, M=None)"
   ]
  },
  {
   "cell_type": "code",
   "execution_count": 29,
   "metadata": {},
   "outputs": [
    {
     "name": "stdout",
     "output_type": "stream",
     "text": [
      "The accuracy on the val set is 0.8522\n"
     ]
    }
   ],
   "source": [
    "test_predict = tree.classify_set(X_test)\n",
    "num_correct = 0\n",
    "num_total = len(test_predict)\n",
    "for i in range(num_total):\n",
    "    if (y_test[i] == test_predict[i]):\n",
    "        num_correct += 1\n",
    "test_accuracy = num_correct/num_total\n",
    "print(\"The accuracy on the val set is {}\".format(test_accuracy))"
   ]
  },
  {
   "cell_type": "code",
   "execution_count": null,
   "metadata": {},
   "outputs": [],
   "source": []
  },
  {
   "cell_type": "markdown",
   "metadata": {},
   "source": [
    "## Prune the Tree (ToDo)\n",
    "\n",
    "- **Question 4 is a bonus question**. You are encouraged to do it\n",
    "\n",
    "- Add the code for pruning a tree\n",
    "- Report the accuracy of the CART tree (with pruning) using hyperparameters (including λ) tuned as you see fit, on the test set; \n",
    "- Compare it to the result with the unpruned tree, and comment on the difference, if any."
   ]
  },
  {
   "cell_type": "code",
   "execution_count": null,
   "metadata": {},
   "outputs": [],
   "source": [
    "# traverse a tree according to the direction\n",
    "def traverse_tree(root, direction):\n",
    "    if direction == \"right\":\n",
    "        if (root.right == None):\n",
    "            print(\"go to a NULL node\")\n",
    "            exit(-1)\n",
    "        else:\n",
    "            root = root.right\n",
    "    else:\n",
    "        if (root.left == None):\n",
    "            print(\"go to a NULL node\")\n",
    "            exit(-1)\n",
    "        else:\n",
    "            root = root.left\n",
    "\n",
    "def check_internal_node(root):\n",
    "    # check whether the node is an internal node that can be collapsed\n",
    "    return root.left.is_leaf and root.right.is_leaf\n",
    "\n",
    "def calculate_leaf_error(root, data, labels):\n",
    "    error = 0\n",
    "    label = label_leaf(labels)\n",
    "    for k in range(len(data)):\n",
    "        error += (data[k] - label) ** 2\n",
    "\n",
    "def calculate_error_increase(root, data, labels):\n",
    "    if (root.is_leaf == True):\n",
    "        # if the node is alreay a leaf, nothing to collapse\n",
    "        return None\n",
    "    if check_internal_node(root):\n",
    "        # parent of two node, considering collapsing it\n",
    "        left_data = []\n",
    "        left_labels = []\n",
    "        right_data = []\n",
    "        right_labels = []\n",
    "\n",
    "        for i in range(len(data)):\n",
    "            x = data[i]\n",
    "            y = labels[i]\n",
    "            if x[root.index] < root.val:\n",
    "                left_data.append(x)\n",
    "                left_labels.append(y)\n",
    "            else:\n",
    "                right_data.append(x)\n",
    "                right_labels.append(y)\n",
    "        left_label = label_leaf(left_labels)\n",
    "        right_label = label_leaf(right_labels)\n",
    "\n",
    "        original_error = 0\n",
    "        for i in range(len(left_data)):\n",
    "            original_error += ((left_data[i] - left_label) ** 2)\n",
    "        for j in range(len(right_data)):\n",
    "            original_error += ((right_data[j] - right_label) ** 2)\n",
    "        \n",
    "        new_error = 0\n",
    "        label = label_leaf(labels)\n",
    "        for k in range(len(data)):\n",
    "            new_error += (data[k] - label) ** 2\n",
    "\n",
    "        error_increase = new_error - original_error\n",
    "        res = (original_error, new_error, error_increase)\n",
    "        return res\n",
    "\n",
    "# collapse an internal node\n",
    "def prune_one_node(root, data, labels):\n",
    "    label = label_leaf(labels)\n",
    "\n",
    "    if ((root.left.is_leaf == True) and (root.right.is_leaf == True)):\n",
    "        root.left = None\n",
    "        root.right = None\n",
    "        root.index = None\n",
    "        root.val = None\n",
    "        root.is_leaf = True\n",
    "        root.label = label\n",
    "\n",
    "    return root\n",
    "\n",
    "def collapse_internal_node(root, data, labels):\n",
    "\n",
    "    # base cases\n",
    "    if root.is_leaf:\n",
    "        res = calculate_leaf_error(root)\n",
    "        return res\n",
    "\n",
    "    if check_internal_node(root.left) and root.right.is_leaf:\n",
    "        res_left = calculate_error_increase(root.left)\n",
    "        right_error = calculate_leaf_error(root.right)\n",
    "        res = res_left[1] + right_error\n",
    "        prune_one_node(root.left)\n",
    "        return res\n",
    "\n",
    "    if check_internal_node(root.right) and root.left.is_leaf:\n",
    "        res_right = calculate_error_increase(root.right)\n",
    "        left_error = calculate_leaf_error(root.left)\n",
    "        res = res_right[1] + left_error\n",
    "        prune_one_node(root.right)\n",
    "        return res\n",
    "    \n",
    "    if (check_internal_node(root.left) and check_internal_node(root.right)):\n",
    "        res_left = calculate_error_increase(root.left)\n",
    "        res_right = calculate_error_increase(root.right)\n",
    "\n",
    "        if (res_left[2] < res_right[2]):\n",
    "            # the increaes error is smaller if we prune the left tree\n",
    "            prune_one_node(root.left)\n",
    "            return (res_left[1] + res_right[0])\n",
    "        else:\n",
    "            prune_one_node(root.right)\n",
    "            return (res_right[1] + res_left[0])\n",
    "\n",
    "\n",
    "\n",
    "    \n",
    "\n",
    "    if root.left.is_leaf and (root.right.is_leaf == False):\n",
    "        collapse_internal_node(root.right)\n",
    "\n",
    "    if root.right.is_leaf and (root.left.is_leaf == False):\n",
    "        collapse_internal_node(root.left)\n",
    "   \n"
   ]
  },
  {
   "cell_type": "code",
   "execution_count": null,
   "metadata": {},
   "outputs": [],
   "source": []
  },
  {
   "cell_type": "code",
   "execution_count": null,
   "metadata": {
    "scrolled": true
   },
   "outputs": [],
   "source": []
  },
  {
   "cell_type": "markdown",
   "metadata": {},
   "source": [
    "# Bagging Section"
   ]
  },
  {
   "cell_type": "code",
   "execution_count": 11,
   "metadata": {},
   "outputs": [],
   "source": [
    "# Helper functions for running bagging ensembles on data\n",
    "def apply_ensemble(trees, data, C=10):\n",
    "    \"\"\"Returns the labels after applying the ensemble\"\"\"\n",
    "\n",
    "    # apply every tree in the ensemble to classify the result and put it \n",
    "    # into a list, then each such list becomes an elemenent in the array\n",
    "    # res.shape[0] = number of trees\n",
    "    # res.shape[1] = number of samples \n",
    "    res = np.array([tree.classify_set(data) for tree in trees])\n",
    "    yhat = np.zeros(res.shape[1])\n",
    "    for i in range(res.shape[1]):\n",
    "        # for a sample, if it's most commonly been attributed to a certain class\n",
    "        # by the ensemble, count that data into that class\n",
    "        yhat[i]=np.argmax(np.bincount(res[:,i]))\n",
    "    return yhat.astype(int)\n",
    "\n",
    "def evaluate_ensemble(trees, data, labels):\n",
    "    \"\"\"Returns the accuracy of the ensemble\"\"\"\n",
    "    return np.mean(apply_ensemble(trees, data) == labels)"
   ]
  },
  {
   "cell_type": "markdown",
   "metadata": {},
   "source": [
    "### Create ensemble (ToDo)"
   ]
  },
  {
   "cell_type": "code",
   "execution_count": 13,
   "metadata": {},
   "outputs": [],
   "source": [
    "def bootstrap(X, y):\n",
    "    N = X.shape[0]\n",
    "    lst = np.random.randint(N, size = N)\n",
    "    return X[lst], y[lst]"
   ]
  },
  {
   "cell_type": "code",
   "execution_count": 14,
   "metadata": {},
   "outputs": [],
   "source": [
    "# Bagging\n",
    "def create_ensemble(X, y, max_depth=10, min_split_size=1, num_trees=5, M_fraction=0.5):\n",
    "    \"\"\"\n",
    "    M_fraction gives M as a fraction of d (# of features in X)\n",
    "    \"\"\"\n",
    "    N, d = X.shape\n",
    "    assert 0 < M_fraction < 1.0\n",
    "    M = int(d*M_fraction)  # compute the actual M (number of features to consider in each node)\n",
    "    \n",
    "    trees = []\n",
    "    for _ in tqdm(range(num_trees)): # this will show progress bar as you build the forest\n",
    "        \n",
    "        # COMPLETE CODE HERE -- construct tree\n",
    "        X_sample, y_sample = bootstrap(X,y)\n",
    "        tree = build_tree(X_sample, y_sample, max_depth, min_split_size, M)\n",
    "        trees.append(tree)\n",
    "        \n",
    "    return trees"
   ]
  },
  {
   "cell_type": "markdown",
   "metadata": {},
   "source": [
    "#### NB: This step takes a while"
   ]
  },
  {
   "cell_type": "code",
   "execution_count": 15,
   "metadata": {
    "scrolled": true
   },
   "outputs": [
    {
     "name": "stderr",
     "output_type": "stream",
     "text": [
      "100%|██████████| 30/30 [27:33<00:00, 55.12s/it]\n"
     ]
    }
   ],
   "source": [
    "ensemble = create_ensemble(X, y, max_depth=15, min_split_size=5, num_trees=30, M_fraction=0.05)"
   ]
  },
  {
   "cell_type": "markdown",
   "metadata": {},
   "source": [
    "### Train/Validation Accuracy (ToDo)\n",
    "\n",
    "- **Compute** the training and validation accuracy\n",
    "\n",
    "- **Report** the training and validation set accuracies of your ensemble. You should aim to get at least **90%** validation accuracy.\n",
    "- **Plot** the val accuracy as a function of ensemble size"
   ]
  },
  {
   "cell_type": "code",
   "execution_count": 16,
   "metadata": {},
   "outputs": [
    {
     "name": "stdout",
     "output_type": "stream",
     "text": [
      "Training accuracy is 0.9973333333333333\n",
      "Val accuracy is 0.9518666666666666\n"
     ]
    }
   ],
   "source": [
    "train_acc = evaluate_ensemble(ensemble, X, y)\n",
    "val_acc = evaluate_ensemble(ensemble, X_val, y_val)\n",
    "\n",
    "print(\"Training accuracy is {}\".format(train_acc))\n",
    "print(\"Val accuracy is {}\".format(val_acc))"
   ]
  },
  {
   "cell_type": "markdown",
   "metadata": {},
   "source": [
    "Tuning for a good value of M"
   ]
  },
  {
   "cell_type": "code",
   "execution_count": 17,
   "metadata": {},
   "outputs": [
    {
     "name": "stderr",
     "output_type": "stream",
     "text": [
      "100%|██████████| 30/30 [24:31<00:00, 49.07s/it]\n",
      "100%|██████████| 30/30 [25:57<00:00, 51.93s/it]\n",
      "100%|██████████| 30/30 [24:41<00:00, 49.39s/it]\n"
     ]
    },
    {
     "name": "stdout",
     "output_type": "stream",
     "text": [
      "The best accuracy rate on validation set is0.9536, the best M is0.1\n"
     ]
    }
   ],
   "source": [
    "M_lst = [0.01, 0.05, 0.1]\n",
    "\n",
    "best_M = 0\n",
    "best_acc = 0\n",
    "\n",
    "for m in M_lst:\n",
    "    ensemble = create_ensemble(X, y, max_depth=15, min_split_size=5, num_trees=30, M_fraction=m)\n",
    "    val_acc = evaluate_ensemble(ensemble, X_val, y_val)\n",
    "    if (val_acc > best_acc):\n",
    "        best_acc = val_acc\n",
    "        best_M = m\n",
    "print(\"The best accuracy rate on validation set is{}, the best M is{}\".format(best_acc, best_M))"
   ]
  },
  {
   "cell_type": "markdown",
   "metadata": {},
   "source": [
    "#### The best accuracy achieved on the val set is 0.9536, and the best M is 0.1."
   ]
  },
  {
   "cell_type": "markdown",
   "metadata": {},
   "source": [
    "### Test Accuracy (ToDo)\n",
    "- **Compute and report** the results of your ensemble on the test set. Again, don’t do it more than once!"
   ]
  },
  {
   "cell_type": "code",
   "execution_count": 19,
   "metadata": {},
   "outputs": [
    {
     "name": "stdout",
     "output_type": "stream",
     "text": [
      "Test accuracy is 0.9564\n"
     ]
    }
   ],
   "source": [
    "test_acc = evaluate_ensemble(ensemble, X_test, y_test)\n",
    "print(\"Test accuracy is {}\".format(test_acc))"
   ]
  },
  {
   "cell_type": "markdown",
   "metadata": {},
   "source": [
    "The accuracy on the test set is 0.9564."
   ]
  },
  {
   "cell_type": "markdown",
   "metadata": {},
   "source": [
    "## Effect of the size of your ensemble (ToDo)\n",
    "\n",
    "- **Show the effect of the size of your ensemble as follows**: \n",
    "    - Let T be the number of trees in your ensemble. \n",
    "    - For t = 1, . . . , T \n",
    "        - **Compute** the validation set accuracy of the partial ensemble consisting of trees 1, . . . , t\n",
    "        - **Plot** this as a function of t. \n",
    "- Discuss what this tells you and how it may inform tuning T.\n",
    "\n",
    "*Advice: Do not re-run the creation of the forest for T = 1, 2, . . .! rather, take your existing ensemble and compute the accuracy of the partial ensembles consisting of only the first tree; the first two trees; etc.*"
   ]
  },
  {
   "cell_type": "code",
   "execution_count": 21,
   "metadata": {},
   "outputs": [
    {
     "data": {
      "text/plain": [
       "[0.7934666666666667,\n",
       " 0.7848,\n",
       " 0.8517333333333333,\n",
       " 0.8826666666666667,\n",
       " 0.8978666666666667,\n",
       " 0.9094,\n",
       " 0.9170666666666667,\n",
       " 0.9222666666666667,\n",
       " 0.9252,\n",
       " 0.9281333333333334,\n",
       " 0.9328,\n",
       " 0.9364,\n",
       " 0.9382666666666667,\n",
       " 0.9404666666666667,\n",
       " 0.9416,\n",
       " 0.9432,\n",
       " 0.9448,\n",
       " 0.9456666666666667,\n",
       " 0.9466,\n",
       " 0.9482,\n",
       " 0.9493333333333334,\n",
       " 0.9494,\n",
       " 0.9509333333333333,\n",
       " 0.9508,\n",
       " 0.9510666666666666,\n",
       " 0.9517333333333333,\n",
       " 0.9526,\n",
       " 0.9536,\n",
       " 0.9534666666666667,\n",
       " 0.9536]"
      ]
     },
     "execution_count": 21,
     "metadata": {},
     "output_type": "execute_result"
    }
   ],
   "source": [
    "ensemble\n",
    "\n",
    "sub_tree = []\n",
    "res_lst = []\n",
    "for i in range(len(ensemble)):\n",
    "    sub_tree.append(ensemble[i])\n",
    "    res = evaluate_ensemble(sub_tree, X_val, y_val)\n",
    "    res_lst.append(res)\n",
    "res_lst"
   ]
  },
  {
   "cell_type": "code",
   "execution_count": 24,
   "metadata": {},
   "outputs": [
    {
     "data": {
      "text/plain": [
       "Text(0, 0.5, 'Val Accuracy')"
      ]
     },
     "execution_count": 24,
     "metadata": {},
     "output_type": "execute_result"
    },
    {
     "data": {
      "image/png": "[encoded data removed]",
      "text/plain": [
       "<Figure size 432x288 with 1 Axes>"
      ]
     },
     "metadata": {
      "needs_background": "light"
     },
     "output_type": "display_data"
    }
   ],
   "source": [
    "x = [i for i in range(len(ensemble))]\n",
    "plt.scatter(x, res_lst)\n",
    "plt.xlabel(\"Number of Trees\")\n",
    "plt.ylabel(\"Val Accuracy\")"
   ]
  },
  {
   "cell_type": "markdown",
   "metadata": {},
   "source": [
    "When T is small, the accuracy rate rises rapidly when T gets larger. This makes sense because each tree should have low bias but high variance. Hence, combining them will greatly reduce the variance and drive the validation accuracy higher.However, when T is sufficiently lagre (in our example, when T > 20), the accuracy rate starts to converge. Hence, when T gets too large, the algorithm wastes computation power instead of adding much to the accuracy rate. When tuning T, we need to start from a relatively small T, increase the number of T, and if the val accuracy rate converges, we should stop increasing T anymore."
   ]
  }
 ],
 "metadata": {
  "kernelspec": {
   "display_name": "Python 3.7.6 ('base')",
   "language": "python",
   "name": "python3"
  },
  "language_info": {
   "codemirror_mode": {
    "name": "ipython",
    "version": 3
   },
   "file_extension": ".py",
   "mimetype": "text/x-python",
   "name": "python",
   "nbconvert_exporter": "python",
   "pygments_lexer": "ipython3",
   "version": "3.7.6"
  },
  "vscode": {
   "interpreter": {
    "hash": "f2a4012fca6975ccb4e2908886d96de946d5fe4261c9ff5ee375ddfd35668e36"
   }
  }
 },
 "nbformat": 4,
 "nbformat_minor": 4
}
